{
 "cells": [
  {
   "cell_type": "code",
   "execution_count": 1,
   "metadata": {},
   "outputs": [],
   "source": [
    "# Importación de librerías\n",
    "import pandas as pd\n",
    "import numpy as np\n",
    "import matplotlib.pyplot as plt\n",
    "import seaborn as sns\n",
    "import statsmodels.api as sm\n",
    "from scipy import stats\n",
    "import requests\n",
    "from bs4 import BeautifulSoup\n",
    "from sklearn.preprocessing import StandardScaler\n",
    "from sklearn.model_selection import train_test_split\n",
    "from sklearn.metrics import accuracy_score, auc, confusion_matrix, f1_score, precision_score, recall_score, roc_curve\n",
    "from pandas.plotting import scatter_matrix\n",
    "from sklearn.linear_model import LogisticRegression\n",
    "from sklearn.ensemble import RandomForestClassifier\n",
    "from sklearn.tree import DecisionTreeClassifier\n",
    "from sklearn.svm import LinearSVC\n",
    "from sklearn.naive_bayes import GaussianNB\n",
    "from sklearn.decomposition import PCA\n",
    "from sklearn.model_selection import cross_val_score"
   ]
  },
  {
   "cell_type": "markdown",
   "metadata": {},
   "source": [
    "# 1. Cargar los datasets y construir un único tablón analítico con todas las variables que consideremos necesarias para cada una de las cosechas que queremos analizar. (20%)"
   ]
  },
  {
   "cell_type": "code",
   "execution_count": 2,
   "metadata": {},
   "outputs": [],
   "source": [
    "# Carga de fichero csv\n",
    "clts_dic = pd.read_csv('../Tarea machine learning con python - REAL/diciembre/clientes_diciembre.csv', sep = '|')\n",
    "prod_dic = pd.read_csv('../Tarea machine learning con python - REAL/diciembre/productos_diciembre.csv', sep = '|')\n",
    "cons_dic = pd.read_csv('../Tarea machine learning con python - REAL/diciembre/consumos_diciembre.csv', sep = '|')\n",
    "fina_dic = pd.read_csv('../Tarea machine learning con python - REAL/diciembre/financiacion_diciembre.csv', sep = '|')\n",
    "\n",
    "clts_ene = pd.read_csv('../Tarea machine learning con python - REAL/enero/clientes_enero.csv', sep = '|')\n",
    "prod_ene = pd.read_csv('../Tarea machine learning con python - REAL/enero/productos_enero.csv', sep = '|')\n",
    "cons_ene = pd.read_csv('../Tarea machine learning con python - REAL/enero/consumos_enero.csv', sep = '|')\n",
    "fina_ene = pd.read_csv('../Tarea machine learning con python - REAL/enero/financiacion_enero.csv', sep = '|')"
   ]
  },
  {
   "cell_type": "code",
   "execution_count": 3,
   "metadata": {},
   "outputs": [
    {
     "name": "stdout",
     "output_type": "stream",
     "text": [
      "DATOS DICIEMBRE -> (Filas, Columnas)\n",
      "df_clientes -> (95467, 8)\n",
      "df_productos -> (95467, 4)\n",
      "df_consumos -> (95467, 6)\n",
      "df_financiación -> (24198, 4)\n",
      "\n",
      "DATOS ENERO -> (Filas, Columnas)\n",
      "df_clientes -> (92711, 8)\n",
      "df_productos -> (92711, 4)\n",
      "df_consumos -> (92711, 6)\n",
      "df_finaciación -> (25332, 4)\n"
     ]
    }
   ],
   "source": [
    "# Impresión de dimensiones de los ficheros. \n",
    "# ¡OJO!Los datos de df_financiación tienen menos registros que el resto en los dos meses\n",
    "# ¡OJO! Diciembre tiene casi 1.000 registros más en clientes, productos y consumos; y 1.000 registros menos en financiación\n",
    "print(\"DATOS DICIEMBRE -> (Filas, Columnas)\")\n",
    "print(\"df_clientes ->\",clts_dic.shape)\n",
    "print(\"df_productos ->\",prod_dic.shape)\n",
    "print(\"df_consumos ->\",cons_dic.shape)\n",
    "print(\"df_financiación ->\",fina_dic.shape) \n",
    "\n",
    "print(\"\\nDATOS ENERO -> (Filas, Columnas)\")\n",
    "print(\"df_clientes ->\", clts_ene.shape)\n",
    "print(\"df_productos ->\", prod_ene.shape)\n",
    "print(\"df_consumos ->\", cons_ene.shape)\n",
    "print(\"df_finaciación ->\",fina_ene.shape)\n"
   ]
  },
  {
   "cell_type": "code",
   "execution_count": 4,
   "metadata": {},
   "outputs": [],
   "source": [
    "#Unión de los conjuntos de datos de cada mes en una única tabla\n",
    "df_diciembre = pd.merge(pd.merge(pd.merge(clts_dic, prod_dic, on = 'id', how = 'left'), cons_dic, on = 'id', how = 'left'),\n",
    "                                  fina_dic, on = 'id', how = 'left')\n",
    "\n",
    "df_enero = pd.merge(pd.merge(pd.merge(clts_ene, prod_ene, on = 'id', how = 'left'), cons_ene, on = 'id', how = 'left'),\n",
    "                                  fina_ene, on = 'id', how = 'left')\n"
   ]
  },
  {
   "cell_type": "markdown",
   "metadata": {},
   "source": [
    "# 2. Pre procesado y limpieza de datos (20%)"
   ]
  },
  {
   "cell_type": "markdown",
   "metadata": {},
   "source": [
    "## 2.1 Inspección inicial y creación de variable objetivo"
   ]
  },
  {
   "cell_type": "code",
   "execution_count": 5,
   "metadata": {},
   "outputs": [
    {
     "data": {
      "text/html": [
       "<div>\n",
       "<style scoped>\n",
       "    .dataframe tbody tr th:only-of-type {\n",
       "        vertical-align: middle;\n",
       "    }\n",
       "\n",
       "    .dataframe tbody tr th {\n",
       "        vertical-align: top;\n",
       "    }\n",
       "\n",
       "    .dataframe thead th {\n",
       "        text-align: right;\n",
       "    }\n",
       "</style>\n",
       "<table border=\"1\" class=\"dataframe\">\n",
       "  <thead>\n",
       "    <tr style=\"text-align: right;\">\n",
       "      <th></th>\n",
       "      <th>id</th>\n",
       "      <th>edad</th>\n",
       "      <th>facturacion</th>\n",
       "      <th>antiguedad</th>\n",
       "      <th>provincia</th>\n",
       "      <th>num_lineas</th>\n",
       "      <th>num_dt</th>\n",
       "      <th>incidencia</th>\n",
       "      <th>conexion</th>\n",
       "      <th>vel_conexion</th>\n",
       "      <th>TV</th>\n",
       "      <th>num_llamad_ent</th>\n",
       "      <th>num_llamad_sal</th>\n",
       "      <th>mb_datos</th>\n",
       "      <th>seg_llamad_ent</th>\n",
       "      <th>seg_llamad_sal</th>\n",
       "      <th>financiacion</th>\n",
       "      <th>imp_financ</th>\n",
       "      <th>descuentos</th>\n",
       "    </tr>\n",
       "  </thead>\n",
       "  <tbody>\n",
       "    <tr>\n",
       "      <th>0</th>\n",
       "      <td>1</td>\n",
       "      <td>63</td>\n",
       "      <td>216.028109</td>\n",
       "      <td>2018-11-23 08:48:00</td>\n",
       "      <td>La Rioja</td>\n",
       "      <td>5</td>\n",
       "      <td>NaN</td>\n",
       "      <td>NaN</td>\n",
       "      <td>FIBRA</td>\n",
       "      <td>50MB</td>\n",
       "      <td>tv-futbol</td>\n",
       "      <td>110</td>\n",
       "      <td>79</td>\n",
       "      <td>10897</td>\n",
       "      <td>12806</td>\n",
       "      <td>13751</td>\n",
       "      <td>NaN</td>\n",
       "      <td>NaN</td>\n",
       "      <td>NaN</td>\n",
       "    </tr>\n",
       "    <tr>\n",
       "      <th>1</th>\n",
       "      <td>2</td>\n",
       "      <td>84</td>\n",
       "      <td>255.830842</td>\n",
       "      <td>2017-08-22 03:19:00</td>\n",
       "      <td>Vizcaya</td>\n",
       "      <td>3</td>\n",
       "      <td>NaN</td>\n",
       "      <td>NaN</td>\n",
       "      <td>FIBRA</td>\n",
       "      <td>600MB</td>\n",
       "      <td>tv-futbol</td>\n",
       "      <td>189</td>\n",
       "      <td>89</td>\n",
       "      <td>18657</td>\n",
       "      <td>6499</td>\n",
       "      <td>10862</td>\n",
       "      <td>NaN</td>\n",
       "      <td>NaN</td>\n",
       "      <td>SI</td>\n",
       "    </tr>\n",
       "    <tr>\n",
       "      <th>2</th>\n",
       "      <td>3</td>\n",
       "      <td>66</td>\n",
       "      <td>135.768153</td>\n",
       "      <td>2001-12-27 13:50:00</td>\n",
       "      <td>Albacete</td>\n",
       "      <td>4</td>\n",
       "      <td>NaN</td>\n",
       "      <td>NaN</td>\n",
       "      <td>ADSL</td>\n",
       "      <td>35MB</td>\n",
       "      <td>tv-futbol</td>\n",
       "      <td>129</td>\n",
       "      <td>30</td>\n",
       "      <td>15511</td>\n",
       "      <td>17013</td>\n",
       "      <td>16743</td>\n",
       "      <td>NaN</td>\n",
       "      <td>NaN</td>\n",
       "      <td>SI</td>\n",
       "    </tr>\n",
       "    <tr>\n",
       "      <th>3</th>\n",
       "      <td>4</td>\n",
       "      <td>69</td>\n",
       "      <td>255.658527</td>\n",
       "      <td>2015-08-08 10:53:00</td>\n",
       "      <td>Lugo</td>\n",
       "      <td>4</td>\n",
       "      <td>NaN</td>\n",
       "      <td>NaN</td>\n",
       "      <td>FIBRA</td>\n",
       "      <td>200MB</td>\n",
       "      <td>tv-familiar</td>\n",
       "      <td>51</td>\n",
       "      <td>52</td>\n",
       "      <td>12670</td>\n",
       "      <td>3393</td>\n",
       "      <td>6771</td>\n",
       "      <td>NaN</td>\n",
       "      <td>NaN</td>\n",
       "      <td>NaN</td>\n",
       "    </tr>\n",
       "    <tr>\n",
       "      <th>4</th>\n",
       "      <td>5</td>\n",
       "      <td>30</td>\n",
       "      <td>22.302845</td>\n",
       "      <td>1997-08-29 02:19:00</td>\n",
       "      <td>Tarragona</td>\n",
       "      <td>2</td>\n",
       "      <td>2.0</td>\n",
       "      <td>NaN</td>\n",
       "      <td>ADSL</td>\n",
       "      <td>10MB</td>\n",
       "      <td>tv-futbol</td>\n",
       "      <td>183</td>\n",
       "      <td>3</td>\n",
       "      <td>23756</td>\n",
       "      <td>18436</td>\n",
       "      <td>4485</td>\n",
       "      <td>NaN</td>\n",
       "      <td>NaN</td>\n",
       "      <td>NaN</td>\n",
       "    </tr>\n",
       "  </tbody>\n",
       "</table>\n",
       "</div>"
      ],
      "text/plain": [
       "   id  edad  facturacion           antiguedad  provincia  num_lineas  num_dt  \\\n",
       "0   1    63   216.028109  2018-11-23 08:48:00   La Rioja           5     NaN   \n",
       "1   2    84   255.830842  2017-08-22 03:19:00    Vizcaya           3     NaN   \n",
       "2   3    66   135.768153  2001-12-27 13:50:00   Albacete           4     NaN   \n",
       "3   4    69   255.658527  2015-08-08 10:53:00       Lugo           4     NaN   \n",
       "4   5    30    22.302845  1997-08-29 02:19:00  Tarragona           2     2.0   \n",
       "\n",
       "  incidencia conexion vel_conexion           TV  num_llamad_ent  \\\n",
       "0        NaN    FIBRA         50MB    tv-futbol             110   \n",
       "1        NaN    FIBRA        600MB    tv-futbol             189   \n",
       "2        NaN     ADSL         35MB    tv-futbol             129   \n",
       "3        NaN    FIBRA        200MB  tv-familiar              51   \n",
       "4        NaN     ADSL         10MB    tv-futbol             183   \n",
       "\n",
       "   num_llamad_sal  mb_datos  seg_llamad_ent  seg_llamad_sal financiacion  \\\n",
       "0              79     10897           12806           13751          NaN   \n",
       "1              89     18657            6499           10862          NaN   \n",
       "2              30     15511           17013           16743          NaN   \n",
       "3              52     12670            3393            6771          NaN   \n",
       "4               3     23756           18436            4485          NaN   \n",
       "\n",
       "   imp_financ descuentos  \n",
       "0         NaN        NaN  \n",
       "1         NaN         SI  \n",
       "2         NaN         SI  \n",
       "3         NaN        NaN  \n",
       "4         NaN        NaN  "
      ]
     },
     "execution_count": 5,
     "metadata": {},
     "output_type": "execute_result"
    }
   ],
   "source": [
    "# Visualizamos las variables del conjunto de datos\n",
    "df_diciembre.head()"
   ]
  },
  {
   "cell_type": "code",
   "execution_count": 6,
   "metadata": {},
   "outputs": [
    {
     "data": {
      "text/html": [
       "<div>\n",
       "<style scoped>\n",
       "    .dataframe tbody tr th:only-of-type {\n",
       "        vertical-align: middle;\n",
       "    }\n",
       "\n",
       "    .dataframe tbody tr th {\n",
       "        vertical-align: top;\n",
       "    }\n",
       "\n",
       "    .dataframe thead th {\n",
       "        text-align: right;\n",
       "    }\n",
       "</style>\n",
       "<table border=\"1\" class=\"dataframe\">\n",
       "  <thead>\n",
       "    <tr style=\"text-align: right;\">\n",
       "      <th></th>\n",
       "      <th>id</th>\n",
       "      <th>edad</th>\n",
       "      <th>facturacion</th>\n",
       "      <th>num_lineas</th>\n",
       "      <th>num_dt</th>\n",
       "      <th>num_llamad_ent</th>\n",
       "      <th>num_llamad_sal</th>\n",
       "      <th>mb_datos</th>\n",
       "      <th>seg_llamad_ent</th>\n",
       "      <th>seg_llamad_sal</th>\n",
       "      <th>imp_financ</th>\n",
       "    </tr>\n",
       "  </thead>\n",
       "  <tbody>\n",
       "    <tr>\n",
       "      <th>count</th>\n",
       "      <td>95467.000000</td>\n",
       "      <td>95467.000000</td>\n",
       "      <td>95467.000000</td>\n",
       "      <td>95467.000000</td>\n",
       "      <td>4729.000000</td>\n",
       "      <td>95467.000000</td>\n",
       "      <td>95467.000000</td>\n",
       "      <td>95467.000000</td>\n",
       "      <td>95467.000000</td>\n",
       "      <td>95467.000000</td>\n",
       "      <td>6372.000000</td>\n",
       "    </tr>\n",
       "    <tr>\n",
       "      <th>mean</th>\n",
       "      <td>49994.256832</td>\n",
       "      <td>49.779379</td>\n",
       "      <td>207.392912</td>\n",
       "      <td>3.559261</td>\n",
       "      <td>2.508141</td>\n",
       "      <td>124.815633</td>\n",
       "      <td>50.022762</td>\n",
       "      <td>12489.795898</td>\n",
       "      <td>9945.152849</td>\n",
       "      <td>9929.715221</td>\n",
       "      <td>22.268613</td>\n",
       "    </tr>\n",
       "    <tr>\n",
       "      <th>std</th>\n",
       "      <td>28873.008865</td>\n",
       "      <td>19.832963</td>\n",
       "      <td>111.343491</td>\n",
       "      <td>1.095542</td>\n",
       "      <td>1.121994</td>\n",
       "      <td>72.492338</td>\n",
       "      <td>29.119904</td>\n",
       "      <td>7239.421267</td>\n",
       "      <td>5784.158514</td>\n",
       "      <td>5819.207033</td>\n",
       "      <td>10.177659</td>\n",
       "    </tr>\n",
       "    <tr>\n",
       "      <th>min</th>\n",
       "      <td>1.000000</td>\n",
       "      <td>18.000000</td>\n",
       "      <td>15.000439</td>\n",
       "      <td>1.000000</td>\n",
       "      <td>1.000000</td>\n",
       "      <td>0.000000</td>\n",
       "      <td>0.000000</td>\n",
       "      <td>0.000000</td>\n",
       "      <td>0.000000</td>\n",
       "      <td>0.000000</td>\n",
       "      <td>5.009999</td>\n",
       "    </tr>\n",
       "    <tr>\n",
       "      <th>25%</th>\n",
       "      <td>24997.500000</td>\n",
       "      <td>32.000000</td>\n",
       "      <td>111.383822</td>\n",
       "      <td>3.000000</td>\n",
       "      <td>2.000000</td>\n",
       "      <td>62.000000</td>\n",
       "      <td>25.000000</td>\n",
       "      <td>6177.500000</td>\n",
       "      <td>4951.000000</td>\n",
       "      <td>4910.000000</td>\n",
       "      <td>13.432253</td>\n",
       "    </tr>\n",
       "    <tr>\n",
       "      <th>50%</th>\n",
       "      <td>49970.000000</td>\n",
       "      <td>49.000000</td>\n",
       "      <td>206.808431</td>\n",
       "      <td>4.000000</td>\n",
       "      <td>3.000000</td>\n",
       "      <td>124.000000</td>\n",
       "      <td>50.000000</td>\n",
       "      <td>12466.000000</td>\n",
       "      <td>9923.000000</td>\n",
       "      <td>9922.000000</td>\n",
       "      <td>21.885534</td>\n",
       "    </tr>\n",
       "    <tr>\n",
       "      <th>75%</th>\n",
       "      <td>75021.500000</td>\n",
       "      <td>67.000000</td>\n",
       "      <td>304.436599</td>\n",
       "      <td>4.000000</td>\n",
       "      <td>4.000000</td>\n",
       "      <td>188.000000</td>\n",
       "      <td>75.000000</td>\n",
       "      <td>18785.500000</td>\n",
       "      <td>14948.500000</td>\n",
       "      <td>14961.000000</td>\n",
       "      <td>31.155292</td>\n",
       "    </tr>\n",
       "    <tr>\n",
       "      <th>max</th>\n",
       "      <td>100000.000000</td>\n",
       "      <td>85.000000</td>\n",
       "      <td>399.998433</td>\n",
       "      <td>39.000000</td>\n",
       "      <td>4.000000</td>\n",
       "      <td>250.000000</td>\n",
       "      <td>100.000000</td>\n",
       "      <td>25000.000000</td>\n",
       "      <td>20000.000000</td>\n",
       "      <td>20000.000000</td>\n",
       "      <td>39.990128</td>\n",
       "    </tr>\n",
       "  </tbody>\n",
       "</table>\n",
       "</div>"
      ],
      "text/plain": [
       "                  id          edad   facturacion    num_lineas       num_dt  \\\n",
       "count   95467.000000  95467.000000  95467.000000  95467.000000  4729.000000   \n",
       "mean    49994.256832     49.779379    207.392912      3.559261     2.508141   \n",
       "std     28873.008865     19.832963    111.343491      1.095542     1.121994   \n",
       "min         1.000000     18.000000     15.000439      1.000000     1.000000   \n",
       "25%     24997.500000     32.000000    111.383822      3.000000     2.000000   \n",
       "50%     49970.000000     49.000000    206.808431      4.000000     3.000000   \n",
       "75%     75021.500000     67.000000    304.436599      4.000000     4.000000   \n",
       "max    100000.000000     85.000000    399.998433     39.000000     4.000000   \n",
       "\n",
       "       num_llamad_ent  num_llamad_sal      mb_datos  seg_llamad_ent  \\\n",
       "count    95467.000000    95467.000000  95467.000000    95467.000000   \n",
       "mean       124.815633       50.022762  12489.795898     9945.152849   \n",
       "std         72.492338       29.119904   7239.421267     5784.158514   \n",
       "min          0.000000        0.000000      0.000000        0.000000   \n",
       "25%         62.000000       25.000000   6177.500000     4951.000000   \n",
       "50%        124.000000       50.000000  12466.000000     9923.000000   \n",
       "75%        188.000000       75.000000  18785.500000    14948.500000   \n",
       "max        250.000000      100.000000  25000.000000    20000.000000   \n",
       "\n",
       "       seg_llamad_sal   imp_financ  \n",
       "count    95467.000000  6372.000000  \n",
       "mean      9929.715221    22.268613  \n",
       "std       5819.207033    10.177659  \n",
       "min          0.000000     5.009999  \n",
       "25%       4910.000000    13.432253  \n",
       "50%       9922.000000    21.885534  \n",
       "75%      14961.000000    31.155292  \n",
       "max      20000.000000    39.990128  "
      ]
     },
     "execution_count": 6,
     "metadata": {},
     "output_type": "execute_result"
    }
   ],
   "source": [
    "df_diciembre.describe()"
   ]
  },
  {
   "cell_type": "code",
   "execution_count": 7,
   "metadata": {},
   "outputs": [],
   "source": [
    "# Lista de variables numéricas para detectar outliers\n",
    "lista_numericas = ['edad', 'facturacion', 'num_lineas', 'num_dt', 'num_llamad_ent', 'num_llamad_sal', 'mb_datos',\n",
    "                   'seg_llamad_ent', 'seg_llamad_sal', 'imp_financ']"
   ]
  },
  {
   "cell_type": "code",
   "execution_count": 8,
   "metadata": {},
   "outputs": [],
   "source": [
    "# Crear una variable dicotómica 'Churn' que clasifique a clientes que siguen (0) y los que se han marchado (1).\n",
    "# La variable Churn será la variable objetivo del modelo\n",
    "\n",
    "no_enero = []\n",
    "lista_ids = list(df_enero['id'])\n",
    "\n",
    "for i in df_diciembre['id']:\n",
    "    if i not in lista_ids:\n",
    "        no_enero.append(1)\n",
    "    else:\n",
    "        no_enero.append(0)\n",
    "\n",
    "df_diciembre.insert(0, 'churn', no_enero)"
   ]
  },
  {
   "cell_type": "code",
   "execution_count": 9,
   "metadata": {},
   "outputs": [
    {
     "data": {
      "text/plain": [
       "Index(['churn', 'id', 'edad', 'facturacion', 'antiguedad', 'provincia',\n",
       "       'num_lineas', 'num_dt', 'incidencia', 'conexion', 'vel_conexion', 'TV',\n",
       "       'num_llamad_ent', 'num_llamad_sal', 'mb_datos', 'seg_llamad_ent',\n",
       "       'seg_llamad_sal', 'financiacion', 'imp_financ', 'descuentos'],\n",
       "      dtype='object')"
      ]
     },
     "execution_count": 9,
     "metadata": {},
     "output_type": "execute_result"
    }
   ],
   "source": [
    "df_diciembre.columns"
   ]
  },
  {
   "cell_type": "code",
   "execution_count": 10,
   "metadata": {},
   "outputs": [
    {
     "data": {
      "text/plain": [
       "0    88382\n",
       "1     7085\n",
       "Name: churn, dtype: int64"
      ]
     },
     "execution_count": 10,
     "metadata": {},
     "output_type": "execute_result"
    }
   ],
   "source": [
    "# ¡OJO! Se puede apreciar una variable objetivo desbalanceada. Tenerlo en cuenta para clasificación\n",
    "df_diciembre['churn'].value_counts()"
   ]
  },
  {
   "cell_type": "code",
   "execution_count": 11,
   "metadata": {},
   "outputs": [],
   "source": [
    "# Fijamos ID como indice\n",
    "df_diciembre.set_index('id', inplace = True)\n",
    "df_enero.set_index('id', inplace = True)"
   ]
  },
  {
   "cell_type": "markdown",
   "metadata": {},
   "source": [
    "## Tratamos antigüedad. La convertimos a meses de antigüedad "
   ]
  },
  {
   "cell_type": "code",
   "execution_count": 12,
   "metadata": {},
   "outputs": [],
   "source": [
    "# Convertir la antiguedad de df_diciembre a meses\n",
    "fecha = df_diciembre['antiguedad']\n",
    "fecha = fecha.str.split(expand = True)\n",
    "fecha = pd.to_datetime(fecha.iloc[:,0])\n",
    "\n",
    "ultimo_dia_diciembre = pd.to_datetime('2019-12-31')\n",
    "a = ultimo_dia_diciembre - fecha\n",
    "\n",
    "meses = a.astype('timedelta64[M]')\n",
    "meses = meses.astype('int')"
   ]
  },
  {
   "cell_type": "code",
   "execution_count": 13,
   "metadata": {},
   "outputs": [],
   "source": [
    "#convertimos la antiguedad de df_enero a meses\n",
    "fecha_enero = df_enero['antiguedad']\n",
    "fecha_enero = fecha_enero.str.split(expand = True)\n",
    "fecha_enero = pd.to_datetime(fecha_enero.iloc[:,0])\n",
    "\n",
    "ultimo_dia_enero = pd.to_datetime('2020-01-31')\n",
    "a = ultimo_dia_enero - fecha_enero\n",
    "\n",
    "meses_enero = a.astype('timedelta64[M]')\n",
    "meses_enero = meses_enero.astype('int')"
   ]
  },
  {
   "cell_type": "code",
   "execution_count": 14,
   "metadata": {},
   "outputs": [],
   "source": [
    "# Incluimos la variable antigüedad en meses en diciembre\n",
    "df_diciembre.insert(5, 'meses_antig', meses)\n",
    "\n",
    "# Incluimos la variable antigüedad en meses en enero\n",
    "df_enero.insert(5, 'meses_antig', meses_enero)"
   ]
  },
  {
   "cell_type": "code",
   "execution_count": 15,
   "metadata": {},
   "outputs": [],
   "source": [
    "# Los nuevos clientes de enero no tienen antigüedad por lo que los igualaremos a cero\n",
    "df_enero[df_enero['meses_antig'].isnull()] = 0"
   ]
  },
  {
   "cell_type": "code",
   "execution_count": 16,
   "metadata": {},
   "outputs": [],
   "source": [
    "# Eliminamos la variable antiguedad en formato fecha de diciembre\n",
    "df_diciembre.head()\n",
    "df_diciembre.drop('antiguedad', axis=1, inplace=True)\n",
    "\n",
    "# Eliminamos la variable antiguedad en formato fecha de enero\n",
    "df_enero.head()\n",
    "df_enero.drop('antiguedad', axis=1, inplace=True)"
   ]
  },
  {
   "cell_type": "code",
   "execution_count": 17,
   "metadata": {},
   "outputs": [],
   "source": [
    "#incluimos meses_antig en la lista de variables numéricas\n",
    "lista_numericas.append('meses_antig')"
   ]
  },
  {
   "cell_type": "markdown",
   "metadata": {},
   "source": [
    "## Tratamos provincia. La convertimos a numérica con su código de provincia"
   ]
  },
  {
   "cell_type": "markdown",
   "metadata": {},
   "source": [
    "Obtenemos código de provincia con scraping del siguiente enlace https://es.wikipedia.org/wiki/Anexo:Provincias_de_Espa%C3%B1a_por_c%C3%B3digo_postal"
   ]
  },
  {
   "cell_type": "code",
   "execution_count": 18,
   "metadata": {},
   "outputs": [],
   "source": [
    "url = \"https://es.wikipedia.org/wiki/Anexo:Provincias_de_Espa%C3%B1a_por_c%C3%B3digo_postal\"\n",
    "res = requests.get(url)\n",
    "soup = BeautifulSoup(res.content, 'html')"
   ]
  },
  {
   "cell_type": "code",
   "execution_count": 19,
   "metadata": {},
   "outputs": [],
   "source": [
    "table_cp_prov = soup.find('table', attrs={'class':'sortablputas ricolinas010hzjswikitable'})"
   ]
  },
  {
   "cell_type": "code",
   "execution_count": 20,
   "metadata": {},
   "outputs": [],
   "source": [
    "df = pd.read_html(str(table_cp_prov))\n",
    "df = df[0]\n",
    "df['Provincia'].replace({'A Coruña':'La Coruña', 'Baleares':'Islas Baleares', 'Ourense':'Orense', 'Gerona/Girona': 'Gerona', 'Lérida/Lleida':'Lérida' }, inplace = True)"
   ]
  },
  {
   "cell_type": "code",
   "execution_count": 21,
   "metadata": {},
   "outputs": [],
   "source": [
    "# Creamos diccionario para reemplazar valores en df_diciembre['provincia']\n",
    "dict_cp_prov = dict(zip(df['Provincia'], df['Código postal']))\n",
    "df_diciembre['provincia'].replace(dict_cp_prov, inplace = True)\n",
    "\n",
    "#Aplicamos los cambios en df_enero\n",
    "df_enero['provincia'].replace(dict_cp_prov, inplace = True)"
   ]
  },
  {
   "cell_type": "code",
   "execution_count": 22,
   "metadata": {},
   "outputs": [],
   "source": [
    "#incluimos provincia en la lista de variables numéricas\n",
    "lista_numericas.append('provincia')"
   ]
  },
  {
   "cell_type": "markdown",
   "metadata": {},
   "source": [
    "## Detección de outliers"
   ]
  },
  {
   "cell_type": "code",
   "execution_count": 23,
   "metadata": {},
   "outputs": [
    {
     "name": "stdout",
     "output_type": "stream",
     "text": [
      "<class 'pandas.core.frame.DataFrame'>\n",
      "Int64Index: 95467 entries, 1 to 100000\n",
      "Data columns (total 12 columns):\n",
      " #   Column          Non-Null Count  Dtype  \n",
      "---  ------          --------------  -----  \n",
      " 0   edad            95467 non-null  int64  \n",
      " 1   facturacion     95467 non-null  float64\n",
      " 2   num_lineas      95467 non-null  int64  \n",
      " 3   num_dt          4729 non-null   float64\n",
      " 4   num_llamad_ent  95467 non-null  int64  \n",
      " 5   num_llamad_sal  95467 non-null  int64  \n",
      " 6   mb_datos        95467 non-null  int64  \n",
      " 7   seg_llamad_ent  95467 non-null  int64  \n",
      " 8   seg_llamad_sal  95467 non-null  int64  \n",
      " 9   imp_financ      6372 non-null   float64\n",
      " 10  meses_antig     95467 non-null  int32  \n",
      " 11  provincia       95467 non-null  int64  \n",
      "dtypes: float64(3), int32(1), int64(8)\n",
      "memory usage: 9.1 MB\n"
     ]
    }
   ],
   "source": [
    "df_diciembre[lista_numericas].info()"
   ]
  },
  {
   "cell_type": "code",
   "execution_count": 24,
   "metadata": {},
   "outputs": [
    {
     "name": "stdout",
     "output_type": "stream",
     "text": [
      "edad            --> (array([], dtype=int64),)\n",
      "facturacion     --> (array([], dtype=int64),)\n",
      "num_lineas      --> (array([ 2580,  8657, 36987], dtype=int64),)\n",
      "num_dt          --> (array([], dtype=int64),)\n",
      "num_llamad_ent  --> (array([], dtype=int64),)\n",
      "num_llamad_sal  --> (array([], dtype=int64),)\n",
      "mb_datos        --> (array([], dtype=int64),)\n",
      "seg_llamad_ent  --> (array([], dtype=int64),)\n",
      "seg_llamad_sal  --> (array([], dtype=int64),)\n",
      "imp_financ      --> (array([], dtype=int64),)\n",
      "meses_antig     --> (array([], dtype=int64),)\n",
      "provincia       --> (array([], dtype=int64),)\n"
     ]
    }
   ],
   "source": [
    "# Detectamos outliers\n",
    "for n in lista_numericas:\n",
    "    z = np.abs(stats.zscore(df_diciembre[n]))\n",
    "    threshold = 3\n",
    "    print(f'{n:15} --> {np.where(z>3)}')      "
   ]
  },
  {
   "cell_type": "code",
   "execution_count": 25,
   "metadata": {},
   "outputs": [
    {
     "data": {
      "text/plain": [
       "{'whiskers': [<matplotlib.lines.Line2D at 0x2106e7aaac0>,\n",
       "  <matplotlib.lines.Line2D at 0x2106e7aae20>],\n",
       " 'caps': [<matplotlib.lines.Line2D at 0x2106e7c01c0>,\n",
       "  <matplotlib.lines.Line2D at 0x2106e7c0520>],\n",
       " 'boxes': [<matplotlib.lines.Line2D at 0x2106e7aa760>],\n",
       " 'medians': [<matplotlib.lines.Line2D at 0x2106e7c0880>],\n",
       " 'fliers': [<matplotlib.lines.Line2D at 0x2106e7c0be0>],\n",
       " 'means': []}"
      ]
     },
     "execution_count": 25,
     "metadata": {},
     "output_type": "execute_result"
    },
    {
     "data": {
      "image/png": "[encoded data removed]",
      "text/plain": [
       "<Figure size 432x288 with 1 Axes>"
      ]
     },
     "metadata": {
      "needs_background": "light"
     },
     "output_type": "display_data"
    }
   ],
   "source": [
    "# Hacemos un boxplot para representar graficamente la distribución de num_lineas\n",
    "plt.boxplot(df_diciembre['num_lineas'], vert = False)"
   ]
  },
  {
   "cell_type": "code",
   "execution_count": 26,
   "metadata": {},
   "outputs": [],
   "source": [
    "# Los outliers se detectan por encima de 10 lineas. Eliminamos estos valores\n",
    "df_diciembre.drop(df_diciembre[df_diciembre.num_lineas>10].index, inplace=True)"
   ]
  },
  {
   "cell_type": "markdown",
   "metadata": {},
   "source": [
    "## Tratamiento de nulos"
   ]
  },
  {
   "cell_type": "code",
   "execution_count": 27,
   "metadata": {},
   "outputs": [
    {
     "data": {
      "text/plain": [
       "churn             0.000000\n",
       "edad              0.000000\n",
       "facturacion       0.000000\n",
       "provincia         0.000000\n",
       "meses_antig       0.000000\n",
       "num_lineas        0.000000\n",
       "num_dt            0.950463\n",
       "incidencia        0.962562\n",
       "conexion          0.000000\n",
       "vel_conexion      0.000031\n",
       "TV                0.000000\n",
       "num_llamad_ent    0.000000\n",
       "num_llamad_sal    0.000000\n",
       "mb_datos          0.000000\n",
       "seg_llamad_ent    0.000000\n",
       "seg_llamad_sal    0.000000\n",
       "financiacion      0.933252\n",
       "imp_financ        0.933252\n",
       "descuentos        0.799380\n",
       "dtype: float64"
      ]
     },
     "execution_count": 27,
     "metadata": {},
     "output_type": "execute_result"
    }
   ],
   "source": [
    "# Variables con nulos: num_dt, incidencia, vel_conexion, finaciacion, imp_financ, descuento\n",
    "# Todas las variables con valores nulos salvo vel_conexion tienen un alto % de valores perdidos\n",
    "df_diciembre.isnull().mean()"
   ]
  },
  {
   "cell_type": "code",
   "execution_count": 28,
   "metadata": {},
   "outputs": [
    {
     "name": "stdout",
     "output_type": "stream",
     "text": [
      "[nan  2.  1.  4.  3.] [nan 'SI'] [nan 'SI'] [        nan 31.55326856 28.51874706 ... 28.35559612 23.13877851\n",
      " 14.61642214] [nan 'SI']\n"
     ]
    }
   ],
   "source": [
    "# Inspeccionar valores únicos de variables con nulos\n",
    "print(df_diciembre.num_dt.unique(), df_diciembre.incidencia.unique(), \n",
    "      df_diciembre.financiacion.unique(), df_diciembre.imp_financ.unique(), df_diciembre.descuentos.unique())"
   ]
  },
  {
   "cell_type": "code",
   "execution_count": 29,
   "metadata": {},
   "outputs": [],
   "source": [
    "# Las variables con valores dicotómicos las convertiremos en binarias: nan = 0, SI = 1\n",
    "dicotomicas = ['incidencia', 'financiacion', 'descuentos']\n",
    "\n",
    "for i in dicotomicas:\n",
    "    df_diciembre[i] = df_diciembre[i].fillna(0)\n",
    "    df_diciembre[i].replace('SI', 1, inplace=True)\n",
    "    df_enero[i] = df_enero[i].fillna(0)\n",
    "    df_enero[i].replace('SI', 1, inplace=True)\n",
    "                        "
   ]
  },
  {
   "cell_type": "code",
   "execution_count": 30,
   "metadata": {},
   "outputs": [
    {
     "name": "stdout",
     "output_type": "stream",
     "text": [
      "0    89092\n",
      "1     6372\n",
      "Name: financiacion, dtype: int64\n",
      "89092\n"
     ]
    }
   ],
   "source": [
    "# Los nulos en financiación y en imp_financ coincide. Podemos concluir que los clientes que no están financiados tienen 0€ de\n",
    "# importe financiado\n",
    "print(df_diciembre['financiacion'].value_counts())\n",
    "print(df_diciembre['imp_financ'].isnull().sum())"
   ]
  },
  {
   "cell_type": "code",
   "execution_count": 31,
   "metadata": {},
   "outputs": [],
   "source": [
    "# En las varibales con multiples valores y nan reemplazamos el nan por cero. \n",
    "# Entendemos que en num_dt los nulos son clientes sin lineas en impago y los nulos en imp_financ no tienen finaciación\n",
    "df_diciembre['num_dt'] = df_diciembre['num_dt'].fillna(0)\n",
    "df_diciembre['imp_financ'] = df_diciembre['imp_financ'].fillna(0)\n",
    "\n",
    "#Aplicamos los cambios a df_enero\n",
    "df_enero['num_dt'] = df_enero['num_dt'].fillna(0)\n",
    "df_enero['imp_financ'] = df_enero['imp_financ'].fillna(0)\n"
   ]
  },
  {
   "cell_type": "code",
   "execution_count": 32,
   "metadata": {},
   "outputs": [
    {
     "data": {
      "text/plain": [
       "churn             0.000000\n",
       "edad              0.000000\n",
       "facturacion       0.000000\n",
       "provincia         0.000000\n",
       "meses_antig       0.000000\n",
       "num_lineas        0.000000\n",
       "num_dt            0.000000\n",
       "incidencia        0.000000\n",
       "conexion          0.000000\n",
       "vel_conexion      0.000031\n",
       "TV                0.000000\n",
       "num_llamad_ent    0.000000\n",
       "num_llamad_sal    0.000000\n",
       "mb_datos          0.000000\n",
       "seg_llamad_ent    0.000000\n",
       "seg_llamad_sal    0.000000\n",
       "financiacion      0.000000\n",
       "imp_financ        0.000000\n",
       "descuentos        0.000000\n",
       "dtype: float64"
      ]
     },
     "execution_count": 32,
     "metadata": {},
     "output_type": "execute_result"
    }
   ],
   "source": [
    "df_diciembre.isna().mean()"
   ]
  },
  {
   "cell_type": "code",
   "execution_count": 33,
   "metadata": {},
   "outputs": [
    {
     "data": {
      "text/plain": [
       "edad              0.000000\n",
       "facturacion       0.000000\n",
       "provincia         0.000000\n",
       "num_lineas        0.000000\n",
       "meses_antig       0.000000\n",
       "num_dt            0.000000\n",
       "incidencia        0.000000\n",
       "conexion          0.000022\n",
       "vel_conexion      0.000032\n",
       "TV                0.000000\n",
       "num_llamad_ent    0.000000\n",
       "num_llamad_sal    0.000000\n",
       "mb_datos          0.000000\n",
       "seg_llamad_ent    0.000000\n",
       "seg_llamad_sal    0.000000\n",
       "financiacion      0.000000\n",
       "imp_financ        0.000000\n",
       "descuentos        0.000000\n",
       "dtype: float64"
      ]
     },
     "execution_count": 33,
     "metadata": {},
     "output_type": "execute_result"
    }
   ],
   "source": [
    "df_enero.isna().mean()"
   ]
  },
  {
   "cell_type": "code",
   "execution_count": 34,
   "metadata": {},
   "outputs": [],
   "source": [
    "# Los valores nulos en conexión en enero los igualaremos a la moda\n",
    "df_enero['conexion'].fillna(df_enero['conexion'].mode()[0], inplace=True)"
   ]
  },
  {
   "cell_type": "code",
   "execution_count": 35,
   "metadata": {},
   "outputs": [],
   "source": [
    "# Los valores nulos en vel_conexion son despreciables. Igualaremos los registros a la moda\n",
    "df_diciembre['vel_conexion'].fillna(df_diciembre['vel_conexion'].mode()[0], inplace=True)\n",
    "df_enero['vel_conexion'].fillna(df_enero['vel_conexion'].mode()[0], inplace=True)"
   ]
  },
  {
   "cell_type": "code",
   "execution_count": 36,
   "metadata": {},
   "outputs": [
    {
     "data": {
      "text/plain": [
       "200MB    9678\n",
       "600MB    9622\n",
       "50MB     9474\n",
       "300MB    9458\n",
       "100MB    9331\n",
       "20MB     8113\n",
       "25MB     8112\n",
       "10MB     7969\n",
       "30MB     7948\n",
       "35MB     7947\n",
       "15MB     7809\n",
       "?           1\n",
       "16598       1\n",
       "1           1\n",
       "Name: vel_conexion, dtype: int64"
      ]
     },
     "execution_count": 36,
     "metadata": {},
     "output_type": "execute_result"
    }
   ],
   "source": [
    "# Parece que hay tres valores mal codificados.\n",
    "df_diciembre['vel_conexion'].value_counts()"
   ]
  },
  {
   "cell_type": "code",
   "execution_count": 37,
   "metadata": {},
   "outputs": [],
   "source": [
    "# Eliminamos 3 valores extraños de velocidad de conexión en diciembre\n",
    "df_diciembre.drop(df_diciembre[df_diciembre['vel_conexion']== '16598'].index, inplace = True)\n",
    "df_diciembre.drop(df_diciembre[df_diciembre['vel_conexion']== '1'].index, inplace = True)\n",
    "df_diciembre.drop(df_diciembre[df_diciembre['vel_conexion']== '?'].index, inplace = True)"
   ]
  },
  {
   "cell_type": "code",
   "execution_count": 38,
   "metadata": {},
   "outputs": [
    {
     "data": {
      "text/plain": [
       "200MB    9345\n",
       "600MB    9299\n",
       "300MB    9212\n",
       "50MB     9167\n",
       "100MB    9099\n",
       "20MB     7882\n",
       "25MB     7840\n",
       "10MB     7807\n",
       "30MB     7761\n",
       "35MB     7672\n",
       "15MB     7627\n",
       "Name: vel_conexion, dtype: int64"
      ]
     },
     "execution_count": 38,
     "metadata": {},
     "output_type": "execute_result"
    }
   ],
   "source": [
    "df_enero['vel_conexion'].value_counts()"
   ]
  },
  {
   "cell_type": "code",
   "execution_count": 39,
   "metadata": {},
   "outputs": [
    {
     "data": {
      "text/plain": [
       "array(['50MB', '600MB', '35MB', '200MB', '10MB', '25MB', '30MB', '100MB',\n",
       "       '20MB', '300MB', '15MB'], dtype=object)"
      ]
     },
     "execution_count": 39,
     "metadata": {},
     "output_type": "execute_result"
    }
   ],
   "source": [
    "# La variable está como objeto y podemos convertirla a numérica eliminando el MB\n",
    "df_diciembre['vel_conexion'].unique()"
   ]
  },
  {
   "cell_type": "code",
   "execution_count": 40,
   "metadata": {},
   "outputs": [
    {
     "data": {
      "text/html": [
       "<div>\n",
       "<style scoped>\n",
       "    .dataframe tbody tr th:only-of-type {\n",
       "        vertical-align: middle;\n",
       "    }\n",
       "\n",
       "    .dataframe tbody tr th {\n",
       "        vertical-align: top;\n",
       "    }\n",
       "\n",
       "    .dataframe thead th {\n",
       "        text-align: right;\n",
       "    }\n",
       "</style>\n",
       "<table border=\"1\" class=\"dataframe\">\n",
       "  <thead>\n",
       "    <tr style=\"text-align: right;\">\n",
       "      <th></th>\n",
       "      <th>churn</th>\n",
       "      <th>edad</th>\n",
       "      <th>facturacion</th>\n",
       "      <th>provincia</th>\n",
       "      <th>meses_antig</th>\n",
       "      <th>num_lineas</th>\n",
       "      <th>num_dt</th>\n",
       "      <th>incidencia</th>\n",
       "      <th>conexion</th>\n",
       "      <th>vel_conexion</th>\n",
       "      <th>TV</th>\n",
       "      <th>num_llamad_ent</th>\n",
       "      <th>num_llamad_sal</th>\n",
       "      <th>mb_datos</th>\n",
       "      <th>seg_llamad_ent</th>\n",
       "      <th>seg_llamad_sal</th>\n",
       "      <th>financiacion</th>\n",
       "      <th>imp_financ</th>\n",
       "      <th>descuentos</th>\n",
       "    </tr>\n",
       "    <tr>\n",
       "      <th>id</th>\n",
       "      <th></th>\n",
       "      <th></th>\n",
       "      <th></th>\n",
       "      <th></th>\n",
       "      <th></th>\n",
       "      <th></th>\n",
       "      <th></th>\n",
       "      <th></th>\n",
       "      <th></th>\n",
       "      <th></th>\n",
       "      <th></th>\n",
       "      <th></th>\n",
       "      <th></th>\n",
       "      <th></th>\n",
       "      <th></th>\n",
       "      <th></th>\n",
       "      <th></th>\n",
       "      <th></th>\n",
       "      <th></th>\n",
       "    </tr>\n",
       "  </thead>\n",
       "  <tbody>\n",
       "    <tr>\n",
       "      <th>1</th>\n",
       "      <td>0</td>\n",
       "      <td>63</td>\n",
       "      <td>216.028109</td>\n",
       "      <td>26</td>\n",
       "      <td>13</td>\n",
       "      <td>5</td>\n",
       "      <td>0.0</td>\n",
       "      <td>0</td>\n",
       "      <td>FIBRA</td>\n",
       "      <td>50MB</td>\n",
       "      <td>tv-futbol</td>\n",
       "      <td>110</td>\n",
       "      <td>79</td>\n",
       "      <td>10897</td>\n",
       "      <td>12806</td>\n",
       "      <td>13751</td>\n",
       "      <td>0</td>\n",
       "      <td>0.0</td>\n",
       "      <td>0</td>\n",
       "    </tr>\n",
       "    <tr>\n",
       "      <th>2</th>\n",
       "      <td>0</td>\n",
       "      <td>84</td>\n",
       "      <td>255.830842</td>\n",
       "      <td>48</td>\n",
       "      <td>28</td>\n",
       "      <td>3</td>\n",
       "      <td>0.0</td>\n",
       "      <td>0</td>\n",
       "      <td>FIBRA</td>\n",
       "      <td>600MB</td>\n",
       "      <td>tv-futbol</td>\n",
       "      <td>189</td>\n",
       "      <td>89</td>\n",
       "      <td>18657</td>\n",
       "      <td>6499</td>\n",
       "      <td>10862</td>\n",
       "      <td>0</td>\n",
       "      <td>0.0</td>\n",
       "      <td>1</td>\n",
       "    </tr>\n",
       "    <tr>\n",
       "      <th>3</th>\n",
       "      <td>0</td>\n",
       "      <td>66</td>\n",
       "      <td>135.768153</td>\n",
       "      <td>2</td>\n",
       "      <td>216</td>\n",
       "      <td>4</td>\n",
       "      <td>0.0</td>\n",
       "      <td>0</td>\n",
       "      <td>ADSL</td>\n",
       "      <td>35MB</td>\n",
       "      <td>tv-futbol</td>\n",
       "      <td>129</td>\n",
       "      <td>30</td>\n",
       "      <td>15511</td>\n",
       "      <td>17013</td>\n",
       "      <td>16743</td>\n",
       "      <td>0</td>\n",
       "      <td>0.0</td>\n",
       "      <td>1</td>\n",
       "    </tr>\n",
       "    <tr>\n",
       "      <th>4</th>\n",
       "      <td>0</td>\n",
       "      <td>69</td>\n",
       "      <td>255.658527</td>\n",
       "      <td>27</td>\n",
       "      <td>52</td>\n",
       "      <td>4</td>\n",
       "      <td>0.0</td>\n",
       "      <td>0</td>\n",
       "      <td>FIBRA</td>\n",
       "      <td>200MB</td>\n",
       "      <td>tv-familiar</td>\n",
       "      <td>51</td>\n",
       "      <td>52</td>\n",
       "      <td>12670</td>\n",
       "      <td>3393</td>\n",
       "      <td>6771</td>\n",
       "      <td>0</td>\n",
       "      <td>0.0</td>\n",
       "      <td>0</td>\n",
       "    </tr>\n",
       "    <tr>\n",
       "      <th>5</th>\n",
       "      <td>1</td>\n",
       "      <td>30</td>\n",
       "      <td>22.302845</td>\n",
       "      <td>43</td>\n",
       "      <td>268</td>\n",
       "      <td>2</td>\n",
       "      <td>2.0</td>\n",
       "      <td>0</td>\n",
       "      <td>ADSL</td>\n",
       "      <td>10MB</td>\n",
       "      <td>tv-futbol</td>\n",
       "      <td>183</td>\n",
       "      <td>3</td>\n",
       "      <td>23756</td>\n",
       "      <td>18436</td>\n",
       "      <td>4485</td>\n",
       "      <td>0</td>\n",
       "      <td>0.0</td>\n",
       "      <td>0</td>\n",
       "    </tr>\n",
       "  </tbody>\n",
       "</table>\n",
       "</div>"
      ],
      "text/plain": [
       "    churn  edad  facturacion  provincia  meses_antig  num_lineas  num_dt  \\\n",
       "id                                                                         \n",
       "1       0    63   216.028109         26           13           5     0.0   \n",
       "2       0    84   255.830842         48           28           3     0.0   \n",
       "3       0    66   135.768153          2          216           4     0.0   \n",
       "4       0    69   255.658527         27           52           4     0.0   \n",
       "5       1    30    22.302845         43          268           2     2.0   \n",
       "\n",
       "    incidencia conexion vel_conexion           TV  num_llamad_ent  \\\n",
       "id                                                                  \n",
       "1            0    FIBRA         50MB    tv-futbol             110   \n",
       "2            0    FIBRA        600MB    tv-futbol             189   \n",
       "3            0     ADSL         35MB    tv-futbol             129   \n",
       "4            0    FIBRA        200MB  tv-familiar              51   \n",
       "5            0     ADSL         10MB    tv-futbol             183   \n",
       "\n",
       "    num_llamad_sal  mb_datos  seg_llamad_ent  seg_llamad_sal  financiacion  \\\n",
       "id                                                                           \n",
       "1               79     10897           12806           13751             0   \n",
       "2               89     18657            6499           10862             0   \n",
       "3               30     15511           17013           16743             0   \n",
       "4               52     12670            3393            6771             0   \n",
       "5                3     23756           18436            4485             0   \n",
       "\n",
       "    imp_financ  descuentos  \n",
       "id                          \n",
       "1          0.0           0  \n",
       "2          0.0           1  \n",
       "3          0.0           1  \n",
       "4          0.0           0  \n",
       "5          0.0           0  "
      ]
     },
     "execution_count": 40,
     "metadata": {},
     "output_type": "execute_result"
    }
   ],
   "source": [
    "df_diciembre.head()"
   ]
  },
  {
   "cell_type": "code",
   "execution_count": 41,
   "metadata": {},
   "outputs": [
    {
     "data": {
      "text/plain": [
       "array(['50', '600', '35', '200', '25', '30', '10', '100', '20', '300',\n",
       "       '15'], dtype=object)"
      ]
     },
     "execution_count": 41,
     "metadata": {},
     "output_type": "execute_result"
    }
   ],
   "source": [
    "numeric_vel_conexion = df_diciembre.vel_conexion.str.split('MB', expand = True)\n",
    "numeric_vel_conexion = numeric_vel_conexion.iloc [:,0]\n",
    "numeric_vel_conexion = numeric_vel_conexion.astype(int)\n",
    "df_diciembre['vel_conexion'] = numeric_vel_conexion \n",
    "df_diciembre['vel_conexion'].unique()\n",
    "\n",
    "#Aplicamos cambios en enero\n",
    "numeric_vel_conexion = df_enero.vel_conexion.str.split('MB', expand = True)\n",
    "df_enero['vel_conexion'] = numeric_vel_conexion\n",
    "df_enero['vel_conexion'].unique()"
   ]
  },
  {
   "cell_type": "code",
   "execution_count": 42,
   "metadata": {},
   "outputs": [
    {
     "data": {
      "text/plain": [
       "array(['50', '600', '35', '200', '25', '30', '10', '100', '20', '300',\n",
       "       '15'], dtype=object)"
      ]
     },
     "execution_count": 42,
     "metadata": {},
     "output_type": "execute_result"
    }
   ],
   "source": [
    "df_enero['vel_conexion'].unique()"
   ]
  },
  {
   "cell_type": "markdown",
   "metadata": {},
   "source": [
    "## Tratamiento  variables categóricas"
   ]
  },
  {
   "cell_type": "code",
   "execution_count": 43,
   "metadata": {},
   "outputs": [
    {
     "name": "stdout",
     "output_type": "stream",
     "text": [
      "churn           ==>  2\n",
      "edad            ==>  68\n",
      "facturacion     ==>  95461\n",
      "provincia       ==>  50\n",
      "meses_antig     ==>  300\n",
      "num_lineas      ==>  5\n",
      "num_dt          ==>  5\n",
      "incidencia      ==>  2\n",
      "conexion        ==>  2\n",
      "vel_conexion    ==>  11\n",
      "TV              ==>  3\n",
      "num_llamad_ent  ==>  251\n",
      "num_llamad_sal  ==>  101\n",
      "mb_datos        ==>  24456\n",
      "seg_llamad_ent  ==>  19829\n",
      "seg_llamad_sal  ==>  19821\n",
      "financiacion    ==>  2\n",
      "imp_financ      ==>  6373\n",
      "descuentos      ==>  2\n"
     ]
    }
   ],
   "source": [
    "# En principio definimos como categoricas aquellas variables con menos de 10 valores diferentes.\n",
    "# Más adelante miraremos si se pueden agrupar de variables numéricas con poca representación en categorías\n",
    "for i in df_diciembre.columns:\n",
    "\n",
    "    print(f'{i:15} ==>  {len(df_diciembre[i].unique())}')"
   ]
  },
  {
   "cell_type": "code",
   "execution_count": 44,
   "metadata": {},
   "outputs": [],
   "source": [
    "# Por el número de valores únicos convertidos eliminamos dos variables de la lista de numericas para incluirlas en categóricas\n",
    "lista_numericas.remove('num_dt')\n",
    "lista_numericas.remove('num_lineas')"
   ]
  },
  {
   "cell_type": "code",
   "execution_count": 45,
   "metadata": {},
   "outputs": [],
   "source": [
    "# Definimos las variables categoricas. No metemos churn ya que es la variable objetivo\n",
    "lista_categoricas = ['num_lineas', 'num_dt', 'incidencia', 'conexion', 'vel_conexion', 'TV', 'financiacion', 'descuentos']"
   ]
  },
  {
   "cell_type": "code",
   "execution_count": 46,
   "metadata": {},
   "outputs": [
    {
     "data": {
      "image/png": "[encoded data removed]",
      "text/plain": [
       "<Figure size 1080x864 with 9 Axes>"
      ]
     },
     "metadata": {
      "needs_background": "light"
     },
     "output_type": "display_data"
    }
   ],
   "source": [
    "#Visualización distribución variables categoricas\n",
    "\n",
    "fig, axes = plt.subplots(nrows = 3, ncols = 3, figsize = (15, 12))\n",
    "\n",
    "for i, item in enumerate(lista_categoricas):\n",
    "    if i < 3:\n",
    "        ax = df_diciembre[item].value_counts().plot(kind = 'bar', ax = axes[i, 0], rot = 0)\n",
    "    \n",
    "    elif i >= 3 and i < 6:\n",
    "        ax = df_diciembre[item].value_counts().plot(kind = 'bar', ax = axes[i-3, 1], rot = 0)\n",
    "        \n",
    "    else:\n",
    "        ax = df_diciembre[item].value_counts().plot(kind = 'bar', ax = axes[i-6, 2], rot = 0)\n",
    "        \n",
    "    ax.set_title(item)"
   ]
  },
  {
   "cell_type": "code",
   "execution_count": 47,
   "metadata": {},
   "outputs": [],
   "source": [
    "# num_dt concentra sus valores en 0. Para simplificarla la convertimos en dicotomica: 0 (no impago) y 1 (impago)\n",
    "df_diciembre['num_dt'] = df_diciembre['num_dt'].apply(lambda x: 0 if x==0 else 1)\n",
    "\n",
    "#Aplicamos cambios en enero\n",
    "df_enero['num_dt'] = df_enero['num_dt'].apply(lambda x: 0 if x==0 else 1)\n"
   ]
  },
  {
   "cell_type": "code",
   "execution_count": 48,
   "metadata": {},
   "outputs": [],
   "source": [
    "# Conexión solo tiene valores ADSL y FIBRA. Las renombramos ADSL(0) y FIBRA(1)\n",
    "df_diciembre['conexion'].replace({'ADSL': 0, 'FIBRA': 1}, inplace = True)\n",
    "\n",
    "# Aplicamos cambios en enero\n",
    "df_enero['conexion'].replace({'ADSL': 0, 'FIBRA': 1}, inplace = True)\n"
   ]
  },
  {
   "cell_type": "code",
   "execution_count": 49,
   "metadata": {},
   "outputs": [],
   "source": [
    "# Pasamos categóricas con más de 2 valores únicos a dummies\n",
    "categoricas_dummies = ['num_lineas', 'vel_conexion', 'TV']\n",
    "for k in categoricas_dummies:\n",
    "    dummies = pd.get_dummies(df_diciembre[k],prefix=k)\n",
    "    df_diciembre = pd.concat([df_diciembre, dummies], axis=1)\n",
    "# Aplicamos cambios en enero\n",
    "    dummies_ene = pd.get_dummies(df_enero[k],prefix=k)\n",
    "    df_enero = pd.concat([df_enero, dummies_ene], axis=1)"
   ]
  },
  {
   "cell_type": "code",
   "execution_count": 50,
   "metadata": {},
   "outputs": [],
   "source": [
    "#eliminamos variables originales\n",
    "df_diciembre.drop(['num_lineas', 'vel_conexion', 'TV'], axis = 1, inplace = True)\n",
    "\n",
    "# Aplicamos cambios en enero\n",
    "df_enero.drop(['num_lineas', 'vel_conexion', 'TV'], axis = 1, inplace = True)"
   ]
  },
  {
   "cell_type": "code",
   "execution_count": 51,
   "metadata": {},
   "outputs": [],
   "source": [
    "# Consideramos que Provincia será categoríca pero no la convertimos a dummies ya que tiene 50 valores únicos\n",
    "lista_numericas.remove('provincia')\n",
    "lista_categoricas.append('provincia')"
   ]
  },
  {
   "cell_type": "code",
   "execution_count": 52,
   "metadata": {},
   "outputs": [
    {
     "data": {
      "image/png": "[encoded data removed]",
      "text/plain": [
       "<Figure size 1080x864 with 9 Axes>"
      ]
     },
     "metadata": {
      "needs_background": "light"
     },
     "output_type": "display_data"
    }
   ],
   "source": [
    "# Histograma de variables numéricas para ver si se pueden categorizar\n",
    "fig, axes = fig, axes = plt.subplots(nrows = 3, ncols = 3, figsize = (15, 12))\n",
    "   \n",
    "    \n",
    "for i, item in enumerate(lista_numericas):\n",
    "    if i < 3:\n",
    "        ax = df_diciembre[item].plot(kind = 'hist', ax = axes[0, i], rot = 0)\n",
    "    \n",
    "    elif i >= 3 and i < 6:\n",
    "        ax = df_diciembre[item].plot(kind = 'hist', ax = axes[1, i-3], rot = 0)\n",
    "        \n",
    "    elif i >= 6 and i < 9:\n",
    "        ax = df_diciembre[item].plot(kind = 'hist', ax = axes[2, i-6], rot = 0)\n",
    "        \n",
    "    else:\n",
    "        ax = df_diciembre[item].plot(kind = 'hist', ax = axes[3, i-9], rot = 0)\n",
    "        \n",
    "    ax.set_title(item)\n",
    "    fig.tight_layout()"
   ]
  },
  {
   "cell_type": "code",
   "execution_count": 53,
   "metadata": {},
   "outputs": [],
   "source": [
    "#imp_financ puede categorizarse en ceros y unos. Al tener los mismo valores que financiación la borramos de df y lista_numericas\n",
    "df_diciembre.drop('imp_financ', axis=1, inplace=True)\n",
    "lista_numericas.remove('imp_financ')\n",
    "\n",
    "#Aplicamos cambios en enero\n",
    "df_enero.drop('imp_financ', axis=1, inplace=True)"
   ]
  },
  {
   "cell_type": "code",
   "execution_count": 54,
   "metadata": {},
   "outputs": [
    {
     "data": {
      "text/html": [
       "<style  type=\"text/css\" >\n",
       "#T_df999941_7541_11eb_b155_54e1adaf3032row0_col0{\n",
       "            background-color:  #023858;\n",
       "            color:  #f1f1f1;\n",
       "        }#T_df999941_7541_11eb_b155_54e1adaf3032row1_col0{\n",
       "            background-color:  #b0c2de;\n",
       "            color:  #000000;\n",
       "        }#T_df999941_7541_11eb_b155_54e1adaf3032row2_col0{\n",
       "            background-color:  #c1cae2;\n",
       "            color:  #000000;\n",
       "        }#T_df999941_7541_11eb_b155_54e1adaf3032row3_col0{\n",
       "            background-color:  #c6cce3;\n",
       "            color:  #000000;\n",
       "        }#T_df999941_7541_11eb_b155_54e1adaf3032row4_col0{\n",
       "            background-color:  #e6e2ef;\n",
       "            color:  #000000;\n",
       "        }#T_df999941_7541_11eb_b155_54e1adaf3032row5_col0{\n",
       "            background-color:  #e8e4f0;\n",
       "            color:  #000000;\n",
       "        }#T_df999941_7541_11eb_b155_54e1adaf3032row6_col0{\n",
       "            background-color:  #eee9f3;\n",
       "            color:  #000000;\n",
       "        }#T_df999941_7541_11eb_b155_54e1adaf3032row7_col0{\n",
       "            background-color:  #f3edf5;\n",
       "            color:  #000000;\n",
       "        }#T_df999941_7541_11eb_b155_54e1adaf3032row8_col0{\n",
       "            background-color:  #f4edf6;\n",
       "            color:  #000000;\n",
       "        }#T_df999941_7541_11eb_b155_54e1adaf3032row9_col0{\n",
       "            background-color:  #f7f0f7;\n",
       "            color:  #000000;\n",
       "        }#T_df999941_7541_11eb_b155_54e1adaf3032row10_col0,#T_df999941_7541_11eb_b155_54e1adaf3032row11_col0,#T_df999941_7541_11eb_b155_54e1adaf3032row12_col0,#T_df999941_7541_11eb_b155_54e1adaf3032row13_col0,#T_df999941_7541_11eb_b155_54e1adaf3032row14_col0{\n",
       "            background-color:  #fef6fb;\n",
       "            color:  #000000;\n",
       "        }#T_df999941_7541_11eb_b155_54e1adaf3032row15_col0,#T_df999941_7541_11eb_b155_54e1adaf3032row16_col0,#T_df999941_7541_11eb_b155_54e1adaf3032row17_col0,#T_df999941_7541_11eb_b155_54e1adaf3032row18_col0,#T_df999941_7541_11eb_b155_54e1adaf3032row19_col0,#T_df999941_7541_11eb_b155_54e1adaf3032row20_col0,#T_df999941_7541_11eb_b155_54e1adaf3032row21_col0,#T_df999941_7541_11eb_b155_54e1adaf3032row22_col0,#T_df999941_7541_11eb_b155_54e1adaf3032row23_col0,#T_df999941_7541_11eb_b155_54e1adaf3032row24_col0,#T_df999941_7541_11eb_b155_54e1adaf3032row25_col0,#T_df999941_7541_11eb_b155_54e1adaf3032row26_col0,#T_df999941_7541_11eb_b155_54e1adaf3032row27_col0,#T_df999941_7541_11eb_b155_54e1adaf3032row28_col0,#T_df999941_7541_11eb_b155_54e1adaf3032row29_col0,#T_df999941_7541_11eb_b155_54e1adaf3032row30_col0,#T_df999941_7541_11eb_b155_54e1adaf3032row31_col0,#T_df999941_7541_11eb_b155_54e1adaf3032row32_col0,#T_df999941_7541_11eb_b155_54e1adaf3032row33_col0{\n",
       "            background-color:  #fff7fb;\n",
       "            color:  #000000;\n",
       "        }</style><table id=\"T_df999941_7541_11eb_b155_54e1adaf3032\" ><thead>    <tr>        <th class=\"blank level0\" ></th>        <th class=\"col_heading level0 col0\" >churn</th>    </tr></thead><tbody>\n",
       "                <tr>\n",
       "                        <th id=\"T_df999941_7541_11eb_b155_54e1adaf3032level0_row0\" class=\"row_heading level0 row0\" >churn</th>\n",
       "                        <td id=\"T_df999941_7541_11eb_b155_54e1adaf3032row0_col0\" class=\"data row0 col0\" >1.000000</td>\n",
       "            </tr>\n",
       "            <tr>\n",
       "                        <th id=\"T_df999941_7541_11eb_b155_54e1adaf3032level0_row1\" class=\"row_heading level0 row1\" >num_dt</th>\n",
       "                        <td id=\"T_df999941_7541_11eb_b155_54e1adaf3032row1_col0\" class=\"data row1 col0\" >0.346511</td>\n",
       "            </tr>\n",
       "            <tr>\n",
       "                        <th id=\"T_df999941_7541_11eb_b155_54e1adaf3032level0_row2\" class=\"row_heading level0 row2\" >edad</th>\n",
       "                        <td id=\"T_df999941_7541_11eb_b155_54e1adaf3032row2_col0\" class=\"data row2 col0\" >0.296818</td>\n",
       "            </tr>\n",
       "            <tr>\n",
       "                        <th id=\"T_df999941_7541_11eb_b155_54e1adaf3032level0_row3\" class=\"row_heading level0 row3\" >incidencia</th>\n",
       "                        <td id=\"T_df999941_7541_11eb_b155_54e1adaf3032row3_col0\" class=\"data row3 col0\" >0.277431</td>\n",
       "            </tr>\n",
       "            <tr>\n",
       "                        <th id=\"T_df999941_7541_11eb_b155_54e1adaf3032level0_row4\" class=\"row_heading level0 row4\" >TV_tv-futbol</th>\n",
       "                        <td id=\"T_df999941_7541_11eb_b155_54e1adaf3032row4_col0\" class=\"data row4 col0\" >0.152469</td>\n",
       "            </tr>\n",
       "            <tr>\n",
       "                        <th id=\"T_df999941_7541_11eb_b155_54e1adaf3032level0_row5\" class=\"row_heading level0 row5\" >descuentos</th>\n",
       "                        <td id=\"T_df999941_7541_11eb_b155_54e1adaf3032row5_col0\" class=\"data row5 col0\" >0.141438</td>\n",
       "            </tr>\n",
       "            <tr>\n",
       "                        <th id=\"T_df999941_7541_11eb_b155_54e1adaf3032level0_row6\" class=\"row_heading level0 row6\" >TV_tv-total</th>\n",
       "                        <td id=\"T_df999941_7541_11eb_b155_54e1adaf3032row6_col0\" class=\"data row6 col0\" >0.111100</td>\n",
       "            </tr>\n",
       "            <tr>\n",
       "                        <th id=\"T_df999941_7541_11eb_b155_54e1adaf3032level0_row7\" class=\"row_heading level0 row7\" >TV_tv-familiar</th>\n",
       "                        <td id=\"T_df999941_7541_11eb_b155_54e1adaf3032row7_col0\" class=\"data row7 col0\" >0.079970</td>\n",
       "            </tr>\n",
       "            <tr>\n",
       "                        <th id=\"T_df999941_7541_11eb_b155_54e1adaf3032level0_row8\" class=\"row_heading level0 row8\" >financiacion</th>\n",
       "                        <td id=\"T_df999941_7541_11eb_b155_54e1adaf3032row8_col0\" class=\"data row8 col0\" >0.074596</td>\n",
       "            </tr>\n",
       "            <tr>\n",
       "                        <th id=\"T_df999941_7541_11eb_b155_54e1adaf3032level0_row9\" class=\"row_heading level0 row9\" >conexion</th>\n",
       "                        <td id=\"T_df999941_7541_11eb_b155_54e1adaf3032row9_col0\" class=\"data row9 col0\" >0.051431</td>\n",
       "            </tr>\n",
       "            <tr>\n",
       "                        <th id=\"T_df999941_7541_11eb_b155_54e1adaf3032level0_row10\" class=\"row_heading level0 row10\" >num_llamad_ent</th>\n",
       "                        <td id=\"T_df999941_7541_11eb_b155_54e1adaf3032row10_col0\" class=\"data row10 col0\" >0.006145</td>\n",
       "            </tr>\n",
       "            <tr>\n",
       "                        <th id=\"T_df999941_7541_11eb_b155_54e1adaf3032level0_row11\" class=\"row_heading level0 row11\" >vel_conexion_10</th>\n",
       "                        <td id=\"T_df999941_7541_11eb_b155_54e1adaf3032row11_col0\" class=\"data row11 col0\" >0.006121</td>\n",
       "            </tr>\n",
       "            <tr>\n",
       "                        <th id=\"T_df999941_7541_11eb_b155_54e1adaf3032level0_row12\" class=\"row_heading level0 row12\" >vel_conexion_15</th>\n",
       "                        <td id=\"T_df999941_7541_11eb_b155_54e1adaf3032row12_col0\" class=\"data row12 col0\" >0.005613</td>\n",
       "            </tr>\n",
       "            <tr>\n",
       "                        <th id=\"T_df999941_7541_11eb_b155_54e1adaf3032level0_row13\" class=\"row_heading level0 row13\" >vel_conexion_25</th>\n",
       "                        <td id=\"T_df999941_7541_11eb_b155_54e1adaf3032row13_col0\" class=\"data row13 col0\" >0.005450</td>\n",
       "            </tr>\n",
       "            <tr>\n",
       "                        <th id=\"T_df999941_7541_11eb_b155_54e1adaf3032level0_row14\" class=\"row_heading level0 row14\" >vel_conexion_35</th>\n",
       "                        <td id=\"T_df999941_7541_11eb_b155_54e1adaf3032row14_col0\" class=\"data row14 col0\" >0.004523</td>\n",
       "            </tr>\n",
       "            <tr>\n",
       "                        <th id=\"T_df999941_7541_11eb_b155_54e1adaf3032level0_row15\" class=\"row_heading level0 row15\" >vel_conexion_30</th>\n",
       "                        <td id=\"T_df999941_7541_11eb_b155_54e1adaf3032row15_col0\" class=\"data row15 col0\" >0.003733</td>\n",
       "            </tr>\n",
       "            <tr>\n",
       "                        <th id=\"T_df999941_7541_11eb_b155_54e1adaf3032level0_row16\" class=\"row_heading level0 row16\" >meses_antig</th>\n",
       "                        <td id=\"T_df999941_7541_11eb_b155_54e1adaf3032row16_col0\" class=\"data row16 col0\" >0.003190</td>\n",
       "            </tr>\n",
       "            <tr>\n",
       "                        <th id=\"T_df999941_7541_11eb_b155_54e1adaf3032level0_row17\" class=\"row_heading level0 row17\" >num_llamad_sal</th>\n",
       "                        <td id=\"T_df999941_7541_11eb_b155_54e1adaf3032row17_col0\" class=\"data row17 col0\" >0.003171</td>\n",
       "            </tr>\n",
       "            <tr>\n",
       "                        <th id=\"T_df999941_7541_11eb_b155_54e1adaf3032level0_row18\" class=\"row_heading level0 row18\" >facturacion</th>\n",
       "                        <td id=\"T_df999941_7541_11eb_b155_54e1adaf3032row18_col0\" class=\"data row18 col0\" >0.002845</td>\n",
       "            </tr>\n",
       "            <tr>\n",
       "                        <th id=\"T_df999941_7541_11eb_b155_54e1adaf3032level0_row19\" class=\"row_heading level0 row19\" >vel_conexion_100</th>\n",
       "                        <td id=\"T_df999941_7541_11eb_b155_54e1adaf3032row19_col0\" class=\"data row19 col0\" >0.002750</td>\n",
       "            </tr>\n",
       "            <tr>\n",
       "                        <th id=\"T_df999941_7541_11eb_b155_54e1adaf3032level0_row20\" class=\"row_heading level0 row20\" >vel_conexion_50</th>\n",
       "                        <td id=\"T_df999941_7541_11eb_b155_54e1adaf3032row20_col0\" class=\"data row20 col0\" >0.002667</td>\n",
       "            </tr>\n",
       "            <tr>\n",
       "                        <th id=\"T_df999941_7541_11eb_b155_54e1adaf3032level0_row21\" class=\"row_heading level0 row21\" >num_lineas_1</th>\n",
       "                        <td id=\"T_df999941_7541_11eb_b155_54e1adaf3032row21_col0\" class=\"data row21 col0\" >0.002666</td>\n",
       "            </tr>\n",
       "            <tr>\n",
       "                        <th id=\"T_df999941_7541_11eb_b155_54e1adaf3032level0_row22\" class=\"row_heading level0 row22\" >vel_conexion_200</th>\n",
       "                        <td id=\"T_df999941_7541_11eb_b155_54e1adaf3032row22_col0\" class=\"data row22 col0\" >0.002623</td>\n",
       "            </tr>\n",
       "            <tr>\n",
       "                        <th id=\"T_df999941_7541_11eb_b155_54e1adaf3032level0_row23\" class=\"row_heading level0 row23\" >vel_conexion_600</th>\n",
       "                        <td id=\"T_df999941_7541_11eb_b155_54e1adaf3032row23_col0\" class=\"data row23 col0\" >0.001721</td>\n",
       "            </tr>\n",
       "            <tr>\n",
       "                        <th id=\"T_df999941_7541_11eb_b155_54e1adaf3032level0_row24\" class=\"row_heading level0 row24\" >provincia</th>\n",
       "                        <td id=\"T_df999941_7541_11eb_b155_54e1adaf3032row24_col0\" class=\"data row24 col0\" >0.001615</td>\n",
       "            </tr>\n",
       "            <tr>\n",
       "                        <th id=\"T_df999941_7541_11eb_b155_54e1adaf3032level0_row25\" class=\"row_heading level0 row25\" >mb_datos</th>\n",
       "                        <td id=\"T_df999941_7541_11eb_b155_54e1adaf3032row25_col0\" class=\"data row25 col0\" >0.001225</td>\n",
       "            </tr>\n",
       "            <tr>\n",
       "                        <th id=\"T_df999941_7541_11eb_b155_54e1adaf3032level0_row26\" class=\"row_heading level0 row26\" >num_lineas_5</th>\n",
       "                        <td id=\"T_df999941_7541_11eb_b155_54e1adaf3032row26_col0\" class=\"data row26 col0\" >0.001072</td>\n",
       "            </tr>\n",
       "            <tr>\n",
       "                        <th id=\"T_df999941_7541_11eb_b155_54e1adaf3032level0_row27\" class=\"row_heading level0 row27\" >vel_conexion_20</th>\n",
       "                        <td id=\"T_df999941_7541_11eb_b155_54e1adaf3032row27_col0\" class=\"data row27 col0\" >0.000709</td>\n",
       "            </tr>\n",
       "            <tr>\n",
       "                        <th id=\"T_df999941_7541_11eb_b155_54e1adaf3032level0_row28\" class=\"row_heading level0 row28\" >num_lineas_3</th>\n",
       "                        <td id=\"T_df999941_7541_11eb_b155_54e1adaf3032row28_col0\" class=\"data row28 col0\" >0.000332</td>\n",
       "            </tr>\n",
       "            <tr>\n",
       "                        <th id=\"T_df999941_7541_11eb_b155_54e1adaf3032level0_row29\" class=\"row_heading level0 row29\" >num_lineas_4</th>\n",
       "                        <td id=\"T_df999941_7541_11eb_b155_54e1adaf3032row29_col0\" class=\"data row29 col0\" >0.000299</td>\n",
       "            </tr>\n",
       "            <tr>\n",
       "                        <th id=\"T_df999941_7541_11eb_b155_54e1adaf3032level0_row30\" class=\"row_heading level0 row30\" >seg_llamad_sal</th>\n",
       "                        <td id=\"T_df999941_7541_11eb_b155_54e1adaf3032row30_col0\" class=\"data row30 col0\" >0.000264</td>\n",
       "            </tr>\n",
       "            <tr>\n",
       "                        <th id=\"T_df999941_7541_11eb_b155_54e1adaf3032level0_row31\" class=\"row_heading level0 row31\" >seg_llamad_ent</th>\n",
       "                        <td id=\"T_df999941_7541_11eb_b155_54e1adaf3032row31_col0\" class=\"data row31 col0\" >0.000121</td>\n",
       "            </tr>\n",
       "            <tr>\n",
       "                        <th id=\"T_df999941_7541_11eb_b155_54e1adaf3032level0_row32\" class=\"row_heading level0 row32\" >num_lineas_2</th>\n",
       "                        <td id=\"T_df999941_7541_11eb_b155_54e1adaf3032row32_col0\" class=\"data row32 col0\" >0.000051</td>\n",
       "            </tr>\n",
       "            <tr>\n",
       "                        <th id=\"T_df999941_7541_11eb_b155_54e1adaf3032level0_row33\" class=\"row_heading level0 row33\" >vel_conexion_300</th>\n",
       "                        <td id=\"T_df999941_7541_11eb_b155_54e1adaf3032row33_col0\" class=\"data row33 col0\" >0.000018</td>\n",
       "            </tr>\n",
       "    </tbody></table>"
      ],
      "text/plain": [
       "<pandas.io.formats.style.Styler at 0x21072c590a0>"
      ]
     },
     "execution_count": 54,
     "metadata": {},
     "output_type": "execute_result"
    }
   ],
   "source": [
    "# Observamos que las variables con mayor influencia sobre el churn son: num_dt_0.0, edad, incidencia, TV_tv_futbol y descuentos\n",
    "corr = abs(df_diciembre.corr())\n",
    "corr[['churn']].sort_values(by = 'churn',ascending = False).style.background_gradient()"
   ]
  },
  {
   "cell_type": "code",
   "execution_count": 55,
   "metadata": {},
   "outputs": [
    {
     "data": {
      "text/plain": [
       "<AxesSubplot:>"
      ]
     },
     "execution_count": 55,
     "metadata": {},
     "output_type": "execute_result"
    },
    {
     "data": {
      "image/png": "[encoded data removed]",
      "text/plain": [
       "<Figure size 432x288 with 1 Axes>"
      ]
     },
     "metadata": {
      "needs_background": "light"
     },
     "output_type": "display_data"
    }
   ],
   "source": [
    "# Analizamos el tipo de correlación\n",
    "corr = df_diciembre.corr()\n",
    "corr[['churn']].sort_values(by='churn',ascending = False).plot(kind='bar')"
   ]
  },
  {
   "cell_type": "markdown",
   "metadata": {},
   "source": [
    "## Escalamos variables continuas al estar en diferentes unidades"
   ]
  },
  {
   "cell_type": "code",
   "execution_count": 56,
   "metadata": {},
   "outputs": [],
   "source": [
    "# Al ser valores medidos en distintas unidades normalizamos las variables continuas\n",
    "estandarizar = StandardScaler()\n",
    "df_diciembre[lista_numericas] = estandarizar.fit_transform(df_diciembre[lista_numericas])\n",
    "\n",
    "# Aplicamos cambios en enero\n",
    "estandarizar = StandardScaler()\n",
    "df_enero[lista_numericas] = estandarizar.fit_transform(df_enero[lista_numericas])"
   ]
  },
  {
   "cell_type": "markdown",
   "metadata": {},
   "source": [
    "# 3. Muestrear los datos, construyendo train y test (5%)"
   ]
  },
  {
   "cell_type": "code",
   "execution_count": 57,
   "metadata": {},
   "outputs": [],
   "source": [
    "x = df_diciembre.drop('churn', axis = 1)\n",
    "churn = df_diciembre['churn']"
   ]
  },
  {
   "cell_type": "code",
   "execution_count": 58,
   "metadata": {},
   "outputs": [],
   "source": [
    "X_train, X_test, y_train, y_test = train_test_split(x,\n",
    "                                                    churn,\n",
    "                                                    test_size=0.2,\n",
    "                                                    random_state=42,\n",
    "                                                    stratify = churn) # Estratificamos las particiones en función del churn"
   ]
  },
  {
   "cell_type": "code",
   "execution_count": 59,
   "metadata": {},
   "outputs": [],
   "source": [
    "# Eliminamos de enero "
   ]
  },
  {
   "cell_type": "markdown",
   "metadata": {},
   "source": [
    "# 4. Modelo analítico de clasificación que prediga la fuga de clientes de la empresa.  (20%)"
   ]
  },
  {
   "cell_type": "markdown",
   "metadata": {},
   "source": [
    "###  4.1 Tipo de algoritmo utilizado, variables seleccionadas y obtención de métricas oportunas"
   ]
  },
  {
   "cell_type": "markdown",
   "metadata": {},
   "source": [
    "Al tratarse de un problema de clasificación binaria (abandona o no abandona la compañía) probaremos algoritmo de **regresión logística**, **random forest**, **SVM** y **Naive Bayes** para quedarnos con el que arroje mejor capacidad predictiva de abandonos.\n",
    "\n",
    "Haremos los primeros modelos con todas las variables y, tras ver como se comportan, aplicaremos técnicas para quedarnos con las variables principales."
   ]
  },
  {
   "cell_type": "code",
   "execution_count": 60,
   "metadata": {},
   "outputs": [],
   "source": [
    "def saca_metricas(y1, y2):\n",
    "    print('matriz de confusión')\n",
    "    print(confusion_matrix(y1, y2))\n",
    "    print('accuracy')\n",
    "    print(accuracy_score(y1, y2))\n",
    "    print('precision')\n",
    "    print(precision_score(y1, y2))\n",
    "    print('recall')\n",
    "    print(recall_score(y1, y2))\n",
    "    print('f1')\n",
    "    print(f1_score(y1, y2))\n",
    "    false_positive_rate, recall, thresholds = roc_curve(y1, y2)\n",
    "    roc_auc = auc(false_positive_rate, recall)\n",
    "    print('AUC')\n",
    "    print(roc_auc)\n",
    "    plt.plot(false_positive_rate, recall, 'b')\n",
    "    plt.plot([0, 1], [0, 1], 'r--')\n",
    "    plt.title('AUC = %0.2f' % roc_auc)"
   ]
  },
  {
   "cell_type": "markdown",
   "metadata": {},
   "source": [
    "## 4.2. Modelos y análisis de resultados"
   ]
  },
  {
   "cell_type": "markdown",
   "metadata": {},
   "source": [
    "### Regresión logísitca"
   ]
  },
  {
   "cell_type": "code",
   "execution_count": 61,
   "metadata": {},
   "outputs": [],
   "source": [
    "lr_classifier = LogisticRegression(class_weight = 'balanced', max_iter = 1000).fit(X_train, y_train)\n",
    "y_pred_lr = lr_classifier.predict(X_test)"
   ]
  },
  {
   "cell_type": "code",
   "execution_count": 62,
   "metadata": {},
   "outputs": [
    {
     "name": "stdout",
     "output_type": "stream",
     "text": [
      "matriz de confusión\n",
      "[[15191  2485]\n",
      " [  122  1295]]\n",
      "accuracy\n",
      "0.8634578117634735\n",
      "precision\n",
      "0.3425925925925926\n",
      "recall\n",
      "0.9139026111503176\n",
      "f1\n",
      "0.49836444102366756\n",
      "AUC\n",
      "0.8866582528482976\n"
     ]
    },
    {
     "data": {
      "image/png": "[encoded data removed]",
      "text/plain": [
       "<Figure size 432x288 with 1 Axes>"
      ]
     },
     "metadata": {
      "needs_background": "light"
     },
     "output_type": "display_data"
    }
   ],
   "source": [
    "saca_metricas(y_test, y_pred_lr)"
   ]
  },
  {
   "cell_type": "markdown",
   "metadata": {},
   "source": [
    "Con el modelo de **regresión logística** logramos un **86% de acierto**. La única pega del modelo es la baja precisión, es decir, **de los casos que detecta como abandono únicamente el 34% son correctos**. Sin embargo, **de los casos que realmente se van de la compañía es capaz de detectar correctamente el 91%**.  \n",
    "Seguimos buscando modelos, en caso de no encontrar nada mejor, este modelo podría ser interesante al tener un **AUC de 0.88**."
   ]
  },
  {
   "cell_type": "markdown",
   "metadata": {},
   "source": [
    "### Random Forest"
   ]
  },
  {
   "cell_type": "code",
   "execution_count": 63,
   "metadata": {},
   "outputs": [],
   "source": [
    "rf_classifier = RandomForestClassifier(class_weight = 'balanced', n_estimators = 100).fit(X_train, y_train)\n",
    "y_pred_rf = rf_classifier.predict(X_test)"
   ]
  },
  {
   "cell_type": "code",
   "execution_count": 64,
   "metadata": {},
   "outputs": [
    {
     "name": "stdout",
     "output_type": "stream",
     "text": [
      "matriz de confusión\n",
      "[[17590    86]\n",
      " [  585   832]]\n",
      "accuracy\n",
      "0.9648562300319489\n",
      "precision\n",
      "0.906318082788671\n",
      "recall\n",
      "0.5871559633027523\n",
      "f1\n",
      "0.7126338329764454\n",
      "AUC\n",
      "0.7911453045751146\n"
     ]
    },
    {
     "data": {
      "image/png": "[encoded data removed]",
      "text/plain": [
       "<Figure size 432x288 with 1 Axes>"
      ]
     },
     "metadata": {
      "needs_background": "light"
     },
     "output_type": "display_data"
    }
   ],
   "source": [
    "saca_metricas(y_test, y_pred_rf)"
   ]
  },
  {
   "cell_type": "markdown",
   "metadata": {},
   "source": [
    "Con **Random Forest** se mejoran el acierto y la precisión considerablemente pero **la sensibilidad se ve muy afectada**. Esto afecta al **AUC, que siendo inferior al 0.8 es inaceptable**. El modelo acierta muy bien los ceros pero **falla mucho en la detección de abandonos de la compañía (entorno a un 42%). Lo descartamos ya que nuestro objetivo es evitar que el máximo número de clientes abandonen la compañía.**"
   ]
  },
  {
   "cell_type": "markdown",
   "metadata": {},
   "source": [
    "### SVM clasificación"
   ]
  },
  {
   "cell_type": "code",
   "execution_count": 65,
   "metadata": {},
   "outputs": [
    {
     "name": "stderr",
     "output_type": "stream",
     "text": [
      "C:\\Users\\User\\anaconda3\\lib\\site-packages\\sklearn\\svm\\_base.py:976: ConvergenceWarning: Liblinear failed to converge, increase the number of iterations.\n",
      "  warnings.warn(\"Liblinear failed to converge, increase \"\n"
     ]
    }
   ],
   "source": [
    "svm_classifier = LinearSVC(class_weight = 'balanced').fit(X_train, y_train)\n",
    "y_pred_svm = svm_classifier.predict(X_test)"
   ]
  },
  {
   "cell_type": "code",
   "execution_count": 66,
   "metadata": {},
   "outputs": [
    {
     "name": "stdout",
     "output_type": "stream",
     "text": [
      "matriz de confusión\n",
      "[[13381  4295]\n",
      " [   24  1393]]\n",
      "accuracy\n",
      "0.7737914418896978\n",
      "precision\n",
      "0.24490154711673698\n",
      "recall\n",
      "0.9830628087508821\n",
      "f1\n",
      "0.39211822660098516\n",
      "AUC\n",
      "0.8700389852760974\n"
     ]
    },
    {
     "data": {
      "image/png": "[encoded data removed]",
      "text/plain": [
       "<Figure size 432x288 with 1 Axes>"
      ]
     },
     "metadata": {
      "needs_background": "light"
     },
     "output_type": "display_data"
    }
   ],
   "source": [
    "saca_metricas(y_test, y_pred_svm)"
   ]
  },
  {
   "cell_type": "markdown",
   "metadata": {},
   "source": [
    "La tecnica **SVM para clasificación** tiene un AUC aceptable pero **la sensibilidad y la precisión son muy bajos**. El modelo falla mucho en la detecciónde clientes que abandonan la compañía. Seguimos teniendo como prioritario el modelo de Regresión Lineal."
   ]
  },
  {
   "cell_type": "markdown",
   "metadata": {},
   "source": [
    "### Naive Bayes"
   ]
  },
  {
   "cell_type": "code",
   "execution_count": 67,
   "metadata": {},
   "outputs": [],
   "source": [
    "nb_classifier = GaussianNB().fit(X_train, y_train)\n",
    "y_pred_nb = nb_classifier.predict(X_test)"
   ]
  },
  {
   "cell_type": "code",
   "execution_count": 68,
   "metadata": {},
   "outputs": [
    {
     "name": "stdout",
     "output_type": "stream",
     "text": [
      "matriz de confusión\n",
      "[[13019  4657]\n",
      " [    5  1412]]\n",
      "accuracy\n",
      "0.755826742785314\n",
      "precision\n",
      "0.23265776898994892\n",
      "recall\n",
      "0.9964714184897672\n",
      "f1\n",
      "0.3772375100187016\n",
      "AUC\n",
      "0.8665034168710434\n"
     ]
    },
    {
     "data": {
      "image/png": "[encoded data removed]",
      "text/plain": [
       "<Figure size 432x288 with 1 Axes>"
      ]
     },
     "metadata": {
      "needs_background": "light"
     },
     "output_type": "display_data"
    }
   ],
   "source": [
    "saca_metricas(y_test, y_pred_nb)"
   ]
  },
  {
   "cell_type": "markdown",
   "metadata": {},
   "source": [
    "El modelo **Gaussian Naevy Bayes** tiene un AUC bueno y **la mejor sensibilidad de todas (0.99)**. En contra partida **la  precisión es la peor de todas**, de todos los casos que detecta como abandono, únicamente el 23% son verdaderos abandonos. Traducido a negocio **nos interesa sacrificar sensibilidad por el aumento de precisión de la regresión lineal** ya que si se quieren realizar acciones de rentención de clientes con alta probabilidad de abandono en este caso se destinarían muchos recursos a clientes que en verdad no quieren abandonar la compañía."
   ]
  },
  {
   "cell_type": "markdown",
   "metadata": {},
   "source": [
    "### Modelo ganador\n",
    "> Seleccionamos el algoritmo de **regresión logísitca** como algoritmo ganador. Con la mejora de modelos buscaremos mejorar la precisión para subir el porcentaje de acierto de clientes que abandona y así optimizar la inversión en retención."
   ]
  },
  {
   "cell_type": "markdown",
   "metadata": {},
   "source": [
    "# 5. Mejora del modelo utilizando técnicas vistas en clase (feature engineering, análisis de variables, comprobación de overfitting, validación cruzada, tuneado de hiper parámetros a través de la automatización…) (20%)"
   ]
  },
  {
   "cell_type": "markdown",
   "metadata": {},
   "source": [
    "### Validación cruzada"
   ]
  },
  {
   "cell_type": "markdown",
   "metadata": {},
   "source": [
    "Para ver si el modelo elegido es preciso y no tiene sobre ajuste hacemos validación cruzada"
   ]
  },
  {
   "cell_type": "markdown",
   "metadata": {},
   "source": [
    "#### Regresión lineal"
   ]
  },
  {
   "cell_type": "code",
   "execution_count": 69,
   "metadata": {},
   "outputs": [],
   "source": [
    "lr_results = cross_val_score(estimator = lr_classifier, X = X_train, y=y_train, cv = 5)"
   ]
  },
  {
   "cell_type": "code",
   "execution_count": 70,
   "metadata": {},
   "outputs": [
    {
     "data": {
      "text/plain": [
       "array([0.86179128, 0.86021998, 0.86362446, 0.86243698, 0.85988345])"
      ]
     },
     "execution_count": 70,
     "metadata": {},
     "output_type": "execute_result"
    }
   ],
   "source": [
    "lr_results"
   ]
  },
  {
   "cell_type": "code",
   "execution_count": 71,
   "metadata": {},
   "outputs": [
    {
     "name": "stdout",
     "output_type": "stream",
     "text": [
      "Media --> 0.8615912311173858\n",
      "Desviación tipica --> 0.0013918445490189758\n"
     ]
    }
   ],
   "source": [
    "# Confirmamos que no hay overfeating en el modelo de regresión lineal\n",
    "print(f'Media --> {lr_results.mean()}')\n",
    "print(f'Desviación tipica --> {lr_results.std()}')\n"
   ]
  },
  {
   "cell_type": "markdown",
   "metadata": {},
   "source": [
    "# 6. Predecir los clientes de la cosecha de enero que más probabilidad tienen de cambiarse de operadora (10%)"
   ]
  },
  {
   "cell_type": "code",
   "execution_count": 72,
   "metadata": {},
   "outputs": [
    {
     "data": {
      "text/html": [
       "<div>\n",
       "<style scoped>\n",
       "    .dataframe tbody tr th:only-of-type {\n",
       "        vertical-align: middle;\n",
       "    }\n",
       "\n",
       "    .dataframe tbody tr th {\n",
       "        vertical-align: top;\n",
       "    }\n",
       "\n",
       "    .dataframe thead th {\n",
       "        text-align: right;\n",
       "    }\n",
       "</style>\n",
       "<table border=\"1\" class=\"dataframe\">\n",
       "  <thead>\n",
       "    <tr style=\"text-align: right;\">\n",
       "      <th></th>\n",
       "      <th>0</th>\n",
       "    </tr>\n",
       "    <tr>\n",
       "      <th>id</th>\n",
       "      <th></th>\n",
       "    </tr>\n",
       "  </thead>\n",
       "  <tbody>\n",
       "    <tr>\n",
       "      <th>8</th>\n",
       "      <td>1</td>\n",
       "    </tr>\n",
       "    <tr>\n",
       "      <th>9</th>\n",
       "      <td>1</td>\n",
       "    </tr>\n",
       "    <tr>\n",
       "      <th>34</th>\n",
       "      <td>1</td>\n",
       "    </tr>\n",
       "    <tr>\n",
       "      <th>38</th>\n",
       "      <td>1</td>\n",
       "    </tr>\n",
       "    <tr>\n",
       "      <th>55</th>\n",
       "      <td>1</td>\n",
       "    </tr>\n",
       "    <tr>\n",
       "      <th>...</th>\n",
       "      <td>...</td>\n",
       "    </tr>\n",
       "    <tr>\n",
       "      <th>99963</th>\n",
       "      <td>1</td>\n",
       "    </tr>\n",
       "    <tr>\n",
       "      <th>99979</th>\n",
       "      <td>1</td>\n",
       "    </tr>\n",
       "    <tr>\n",
       "      <th>99984</th>\n",
       "      <td>1</td>\n",
       "    </tr>\n",
       "    <tr>\n",
       "      <th>99996</th>\n",
       "      <td>1</td>\n",
       "    </tr>\n",
       "    <tr>\n",
       "      <th>99998</th>\n",
       "      <td>1</td>\n",
       "    </tr>\n",
       "  </tbody>\n",
       "</table>\n",
       "<p>19272 rows × 1 columns</p>\n",
       "</div>"
      ],
      "text/plain": [
       "       0\n",
       "id      \n",
       "8      1\n",
       "9      1\n",
       "34     1\n",
       "38     1\n",
       "55     1\n",
       "...   ..\n",
       "99963  1\n",
       "99979  1\n",
       "99984  1\n",
       "99996  1\n",
       "99998  1\n",
       "\n",
       "[19272 rows x 1 columns]"
      ]
     },
     "execution_count": 72,
     "metadata": {},
     "output_type": "execute_result"
    }
   ],
   "source": [
    "# Clasifica 19.272 registros como posibles fugas\n",
    "a = lr_classifier.predict(df_enero)\n",
    "fuga = pd.DataFrame(a, index=df_enero.index)\n",
    "fuga[fuga.loc[:,0]==1]"
   ]
  },
  {
   "cell_type": "code",
   "execution_count": 73,
   "metadata": {},
   "outputs": [],
   "source": [
    "modelo_proba = lr_classifier.predict_proba(df_enero)[:,1]\n",
    "modelo_proba = (pd.DataFrame(modelo_proba,columns=['probabilidad'],index=df_enero.index))\n",
    "modelo_proba.sort_values(by=['probabilidad'],ascending=False,axis=0,inplace=True)"
   ]
  },
  {
   "cell_type": "code",
   "execution_count": 74,
   "metadata": {},
   "outputs": [
    {
     "data": {
      "text/html": [
       "<div>\n",
       "<style scoped>\n",
       "    .dataframe tbody tr th:only-of-type {\n",
       "        vertical-align: middle;\n",
       "    }\n",
       "\n",
       "    .dataframe tbody tr th {\n",
       "        vertical-align: top;\n",
       "    }\n",
       "\n",
       "    .dataframe thead th {\n",
       "        text-align: right;\n",
       "    }\n",
       "</style>\n",
       "<table border=\"1\" class=\"dataframe\">\n",
       "  <thead>\n",
       "    <tr style=\"text-align: right;\">\n",
       "      <th></th>\n",
       "      <th>probabilidad</th>\n",
       "    </tr>\n",
       "    <tr>\n",
       "      <th>id</th>\n",
       "      <th></th>\n",
       "    </tr>\n",
       "  </thead>\n",
       "  <tbody>\n",
       "    <tr>\n",
       "      <th>24282</th>\n",
       "      <td>0.999999</td>\n",
       "    </tr>\n",
       "    <tr>\n",
       "      <th>7627</th>\n",
       "      <td>0.999999</td>\n",
       "    </tr>\n",
       "    <tr>\n",
       "      <th>67018</th>\n",
       "      <td>0.999999</td>\n",
       "    </tr>\n",
       "    <tr>\n",
       "      <th>6952</th>\n",
       "      <td>0.999998</td>\n",
       "    </tr>\n",
       "    <tr>\n",
       "      <th>53077</th>\n",
       "      <td>0.999991</td>\n",
       "    </tr>\n",
       "    <tr>\n",
       "      <th>...</th>\n",
       "      <td>...</td>\n",
       "    </tr>\n",
       "    <tr>\n",
       "      <th>34677</th>\n",
       "      <td>0.900191</td>\n",
       "    </tr>\n",
       "    <tr>\n",
       "      <th>31139</th>\n",
       "      <td>0.900132</td>\n",
       "    </tr>\n",
       "    <tr>\n",
       "      <th>78103</th>\n",
       "      <td>0.900092</td>\n",
       "    </tr>\n",
       "    <tr>\n",
       "      <th>90325</th>\n",
       "      <td>0.900087</td>\n",
       "    </tr>\n",
       "    <tr>\n",
       "      <th>6594</th>\n",
       "      <td>0.900000</td>\n",
       "    </tr>\n",
       "  </tbody>\n",
       "</table>\n",
       "<p>7848 rows × 1 columns</p>\n",
       "</div>"
      ],
      "text/plain": [
       "       probabilidad\n",
       "id                 \n",
       "24282      0.999999\n",
       "7627       0.999999\n",
       "67018      0.999999\n",
       "6952       0.999998\n",
       "53077      0.999991\n",
       "...             ...\n",
       "34677      0.900191\n",
       "31139      0.900132\n",
       "78103      0.900092\n",
       "90325      0.900087\n",
       "6594       0.900000\n",
       "\n",
       "[7848 rows x 1 columns]"
      ]
     },
     "execution_count": 74,
     "metadata": {},
     "output_type": "execute_result"
    }
   ],
   "source": [
    "# Generamos lista en función de probabilidad de fuga para comenzar acciones de retención sobre clientes con mayor probabilidad.\n",
    "modelo_proba[modelo_proba['probabilidad']>0.9]"
   ]
  },
  {
   "cell_type": "markdown",
   "metadata": {},
   "source": [
    "# 7. Obtener y explicar las claves (a través de las variables…) de la marcha de los clientes en la compañía. (5%)"
   ]
  },
  {
   "cell_type": "code",
   "execution_count": 75,
   "metadata": {},
   "outputs": [
    {
     "data": {
      "text/plain": [
       "<AxesSubplot:>"
      ]
     },
     "execution_count": 75,
     "metadata": {},
     "output_type": "execute_result"
    },
    {
     "data": {
      "image/png": "[encoded data removed]",
      "text/plain": [
       "<Figure size 432x288 with 1 Axes>"
      ]
     },
     "metadata": {
      "needs_background": "light"
     },
     "output_type": "display_data"
    }
   ],
   "source": [
    "# Analizamos el tipo de correlación\n",
    "corr = df_diciembre.corr()\n",
    "corr[['churn']].sort_values(by='churn',ascending = False).plot(kind='bar')"
   ]
  },
  {
   "cell_type": "markdown",
   "metadata": {},
   "source": [
    "Como podemos ver en el gráfico las cinco variables con mayor influencia sobre la tasa de abandono son:\n",
    "1. Los clientes más jóvenes tienen mayor probabilidad de fuga\n",
    "2. Los clientes que no disfrutan de descuentos tienen mayor probabilidad de fuga\n",
    "3. Los clientes que comienzan con impago de lineas terminan por fugarse\n",
    "4. Aquellos clientes con incidencias en el servicio tienen mayor probabilidad de fuga\n",
    "5. Los clientes que únicamente tienen contratado el paquete de futbol son más propensos a irse que los que tienen televisión familiar o el pack completo de televisión."
   ]
  }
 ],
 "metadata": {
  "kernelspec": {
   "display_name": "Python 3",
   "language": "python",
   "name": "python3"
  },
  "language_info": {
   "codemirror_mode": {
    "name": "ipython",
    "version": 3
   },
   "file_extension": ".py",
   "mimetype": "text/x-python",
   "name": "python",
   "nbconvert_exporter": "python",
   "pygments_lexer": "ipython3",
   "version": "3.8.5"
  }
 },
 "nbformat": 4,
 "nbformat_minor": 4
}
